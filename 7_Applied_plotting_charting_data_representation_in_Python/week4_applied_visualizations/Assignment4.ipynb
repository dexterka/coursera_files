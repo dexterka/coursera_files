{
 "cells": [
  {
   "cell_type": "markdown",
   "metadata": {},
   "source": [
    "# Assignment 4\n",
    "\n",
    "Before working on this assignment please read these instructions fully. In the submission area, you will notice that you can click the link to **Preview the Grading** for each step of the assignment. This is the criteria that will be used for peer grading. Please familiarize yourself with the criteria before beginning the assignment.\n",
    "\n",
    "This assignment requires that you to find **at least** two datasets on the web which are related, and that you visualize these datasets to answer a question with the broad topic of **sports or athletics** (see below) for the region of **Bratislava, Bratislava, Slovakia**, or **Slovakia** more broadly.\n",
    "\n",
    "You can merge these datasets with data from different regions if you like! For instance, you might want to compare **Bratislava, Bratislava, Slovakia** to Ann Arbor, USA. In that case at least one source file must be about **Bratislava, Bratislava, Slovakia**.\n",
    "\n",
    "You are welcome to choose datasets at your discretion, but keep in mind **they will be shared with your peers**, so choose appropriate datasets. Sensitive, confidential, illicit, and proprietary materials are not good choices for datasets for this assignment. You are welcome to upload datasets of your own as well, and link to them using a third party repository such as github, bitbucket, pastebin, etc. Please be aware of the Coursera terms of service with respect to intellectual property.\n",
    "\n",
    "Also, you are welcome to preserve data in its original language, but for the purposes of grading you should provide english translations. You are welcome to provide multiple visuals in different languages if you would like!\n",
    "\n",
    "As this assignment is for the whole course, you must incorporate principles discussed in the first week, such as having as high data-ink ratio (Tufte) and aligning with Cairo’s principles of truth, beauty, function, and insight.\n",
    "\n",
    "Here are the assignment instructions:\n",
    "\n",
    " * State the region and the domain category that your data sets are about (e.g., **Bratislava, Bratislava, Slovakia** and **sports or athletics**).\n",
    " * You must state a question about the domain category and region that you identified as being interesting.\n",
    " * You must provide at least two links to available datasets. These could be links to files such as CSV or Excel files, or links to websites which might have data in tabular form, such as Wikipedia pages.\n",
    " * You must upload an image which addresses the research question you stated. In addition to addressing the question, this visual should follow Cairo's principles of truthfulness, functionality, beauty, and insightfulness.\n",
    " * You must contribute a short (1-2 paragraph) written justification of how your visualization addresses your stated research question.\n",
    "\n",
    "What do we mean by **sports or athletics**?  For this category we are interested in sporting events or athletics broadly, please feel free to creatively interpret the category when building your research question!\n",
    "\n",
    "## Tips\n",
    "* Wikipedia is an excellent source of data, and I strongly encourage you to explore it for new data sources.\n",
    "* Many governments run open data initiatives at the city, region, and country levels, and these are wonderful resources for localized data sources.\n",
    "* Several international agencies, such as the [United Nations](http://data.un.org/), the [World Bank](http://data.worldbank.org/), the [Global Open Data Index](http://index.okfn.org/place/) are other great places to look for data.\n",
    "* This assignment requires you to convert and clean datafiles. Check out the discussion forums for tips on how to do this from various sources, and share your successes with your fellow students!\n",
    "\n",
    "## Example\n",
    "Looking for an example? Here's what our course assistant put together for the **Ann Arbor, MI, USA** area using **sports and athletics** as the topic. [Example Solution File](./readonly/Assignment4_example.pdf)"
   ]
  },
  {
   "cell_type": "code",
   "execution_count": 1,
   "metadata": {
    "collapsed": false
   },
   "outputs": [
    {
     "name": "stdout",
     "output_type": "stream",
     "text": [
      "Collecting lxml\n",
      "  Downloading https://files.pythonhosted.org/packages/9e/3a/32438b5b54d2c13a9be88d2718b108eb6f3eb501fc68726b9faadebae160/lxml-4.2.4-cp35-cp35m-manylinux1_x86_64.whl (5.8MB)\n",
      "\u001b[K    100% |████████████████████████████████| 5.8MB 126kB/s \n",
      "\u001b[?25hInstalling collected packages: lxml\n",
      "Successfully installed lxml-4.2.4\n",
      "\u001b[33mYou are using pip version 8.1.2, however version 18.0 is available.\n",
      "You should consider upgrading via the 'pip install --upgrade pip' command.\u001b[0m\n",
      "Collecting html5lib\n",
      "  Downloading https://files.pythonhosted.org/packages/a5/62/bbd2be0e7943ec8504b517e62bab011b4946e1258842bc159e5dfde15b96/html5lib-1.0.1-py2.py3-none-any.whl (117kB)\n",
      "\u001b[K    100% |████████████████████████████████| 122kB 3.2MB/s \n",
      "\u001b[?25hCollecting webencodings (from html5lib)\n",
      "  Downloading https://files.pythonhosted.org/packages/f4/24/2a3e3df732393fed8b3ebf2ec078f05546de641fe1b667ee316ec1dcf3b7/webencodings-0.5.1-py2.py3-none-any.whl\n",
      "Requirement already satisfied (use --upgrade to upgrade): six>=1.9 in /opt/conda/lib/python3.5/site-packages (from html5lib)\n",
      "Installing collected packages: webencodings, html5lib\n",
      "Successfully installed html5lib-1.0.1 webencodings-0.5.1\n",
      "\u001b[33mYou are using pip version 8.1.2, however version 18.0 is available.\n",
      "You should consider upgrading via the 'pip install --upgrade pip' command.\u001b[0m\n",
      "Collecting bs4\n",
      "  Downloading https://files.pythonhosted.org/packages/10/ed/7e8b97591f6f456174139ec089c769f89a94a1a4025fe967691de971f314/bs4-0.0.1.tar.gz\n",
      "Collecting beautifulsoup4 (from bs4)\n",
      "  Downloading https://files.pythonhosted.org/packages/21/0a/47fdf541c97fd9b6a610cb5fd518175308a7cc60569962e776ac52420387/beautifulsoup4-4.6.3-py3-none-any.whl (90kB)\n",
      "\u001b[K    100% |████████████████████████████████| 92kB 5.0MB/s \n",
      "\u001b[?25hBuilding wheels for collected packages: bs4\n",
      "  Running setup.py bdist_wheel for bs4 ... \u001b[?25l-\b \b\\\b \bdone\n",
      "\u001b[?25h  Stored in directory: /home/jovyan/.cache/pip/wheels/a0/b0/b2/4f80b9456b87abedbc0bf2d52235414c3467d8889be38dd472\n",
      "Successfully built bs4\n",
      "Installing collected packages: beautifulsoup4, bs4\n",
      "Successfully installed beautifulsoup4-4.6.3 bs4-0.0.1\n",
      "\u001b[33mYou are using pip version 8.1.2, however version 18.0 is available.\n",
      "You should consider upgrading via the 'pip install --upgrade pip' command.\u001b[0m\n"
     ]
    }
   ],
   "source": [
    "# Install a pip package in the current Jupyter kernel \n",
    "# RESTART kernel after installation!\n",
    "import sys\n",
    "!{sys.executable} -m pip install lxml\n",
    "!{sys.executable} -m pip install html5lib \n",
    "!{sys.executable} -m pip install bs4 "
   ]
  },
  {
   "cell_type": "code",
   "execution_count": 39,
   "metadata": {
    "collapsed": false
   },
   "outputs": [],
   "source": [
    "# Env setup\n",
    "import pandas as pd\n",
    "import numpy as np\n",
    "import matplotlib.pyplot as plt\n",
    "import matplotlib.ticker\n",
    "import seaborn as sns\n",
    "import datetime as dt\n",
    "import lxml\n",
    "import html5lib\n",
    "import bs4"
   ]
  },
  {
   "cell_type": "code",
   "execution_count": 2,
   "metadata": {
    "collapsed": false
   },
   "outputs": [],
   "source": [
    "# data sources\n",
    "# https://en.wikipedia.org/wiki/Slovakia_at_the_Olympics\n",
    "url_sr = pd.read_html('https://en.wikipedia.org/wiki/Slovakia_at_the_Olympics', header = 0)\n",
    "\n",
    "# https://en.wikipedia.org/wiki/Czech_Republic_at_the_Olympics\n",
    "url_cr = pd.read_html('https://en.wikipedia.org/wiki/Czech_Republic_at_the_Olympics', header = 0)\n",
    "\n",
    "# https://en.wikipedia.org/wiki/Czechoslovakia_at_the_Olympics\n",
    "url_csr = pd.read_html('https://en.wikipedia.org/wiki/Czechoslovakia_at_the_Olympics', header = 0)"
   ]
  },
  {
   "cell_type": "code",
   "execution_count": 11,
   "metadata": {
    "collapsed": false
   },
   "outputs": [
    {
     "name": "stderr",
     "output_type": "stream",
     "text": [
      "/opt/conda/lib/python3.5/site-packages/ipykernel/__main__.py:5: SettingWithCopyWarning: \n",
      "A value is trying to be set on a copy of a slice from a DataFrame.\n",
      "Try using .loc[row_indexer,col_indexer] = value instead\n",
      "\n",
      "See the caveats in the documentation: http://pandas.pydata.org/pandas-docs/stable/indexing.html#indexing-view-versus-copy\n",
      "/opt/conda/lib/python3.5/site-packages/ipykernel/__main__.py:10: SettingWithCopyWarning: \n",
      "A value is trying to be set on a copy of a slice from a DataFrame.\n",
      "Try using .loc[row_indexer,col_indexer] = value instead\n",
      "\n",
      "See the caveats in the documentation: http://pandas.pydata.org/pandas-docs/stable/indexing.html#indexing-view-versus-copy\n"
     ]
    },
    {
     "data": {
      "text/html": [
       "<div>\n",
       "<table border=\"1\" class=\"dataframe\">\n",
       "  <thead>\n",
       "    <tr style=\"text-align: right;\">\n",
       "      <th></th>\n",
       "      <th>Sport</th>\n",
       "      <th>Total</th>\n",
       "      <th>Country</th>\n",
       "    </tr>\n",
       "  </thead>\n",
       "  <tbody>\n",
       "    <tr>\n",
       "      <th>10</th>\n",
       "      <td>Canoeing</td>\n",
       "      <td>18.0</td>\n",
       "      <td>Slovak republic</td>\n",
       "    </tr>\n",
       "    <tr>\n",
       "      <th>4</th>\n",
       "      <td>Biathlon</td>\n",
       "      <td>7.0</td>\n",
       "      <td>Slovak republic</td>\n",
       "    </tr>\n",
       "    <tr>\n",
       "      <th>12</th>\n",
       "      <td>Shooting</td>\n",
       "      <td>5.0</td>\n",
       "      <td>Slovak republic</td>\n",
       "    </tr>\n",
       "    <tr>\n",
       "      <th>13</th>\n",
       "      <td>Swimming</td>\n",
       "      <td>2.0</td>\n",
       "      <td>Slovak republic</td>\n",
       "    </tr>\n",
       "    <tr>\n",
       "      <th>11</th>\n",
       "      <td>Athletics</td>\n",
       "      <td>1.0</td>\n",
       "      <td>Slovak republic</td>\n",
       "    </tr>\n",
       "    <tr>\n",
       "      <th>14</th>\n",
       "      <td>Judo</td>\n",
       "      <td>1.0</td>\n",
       "      <td>Slovak republic</td>\n",
       "    </tr>\n",
       "    <tr>\n",
       "      <th>15</th>\n",
       "      <td>Wrestling</td>\n",
       "      <td>1.0</td>\n",
       "      <td>Slovak republic</td>\n",
       "    </tr>\n",
       "    <tr>\n",
       "      <th>5</th>\n",
       "      <td>Snowboarding</td>\n",
       "      <td>1.0</td>\n",
       "      <td>Slovak republic</td>\n",
       "    </tr>\n",
       "  </tbody>\n",
       "</table>\n",
       "</div>"
      ],
      "text/plain": [
       "           Sport  Total          Country\n",
       "10      Canoeing   18.0  Slovak republic\n",
       "4       Biathlon    7.0  Slovak republic\n",
       "12      Shooting    5.0  Slovak republic\n",
       "13      Swimming    2.0  Slovak republic\n",
       "11     Athletics    1.0  Slovak republic\n",
       "14          Judo    1.0  Slovak republic\n",
       "15     Wrestling    1.0  Slovak republic\n",
       "5   Snowboarding    1.0  Slovak republic"
      ]
     },
     "execution_count": 11,
     "metadata": {},
     "output_type": "execute_result"
    }
   ],
   "source": [
    "# Slovakia\n",
    "# summer Olympics - medal counts\n",
    "summer_sr = url_sr[2]\n",
    "summer_sr = summer_sr[np.isfinite(summer_sr['Rank'])]\n",
    "summer_sr['Year'], summer_sr['Location'] = summer_sr['Games'].str.split(' ', 1).str\n",
    "\n",
    "# winter Olympics - medal counts\n",
    "winter_sr = url_sr[3]\n",
    "winter_sr = winter_sr[(np.isfinite(winter_sr['Total'])) & (winter_sr['Games'] != 'Total')]\n",
    "winter_sr['Year'], winter_sr['Location'] = winter_sr['Games'].str.split(' ', 1).str\n",
    "\n",
    "# summer Olympics - sports & medal counts\n",
    "summer_sports_sr = url_sr[5]\n",
    "summer_sports_sr = summer_sports_sr[10:16]\n",
    "\n",
    "# winter Olympics - sports & medal counts\n",
    "winter_sports_sr = url_sr[6]\n",
    "winter_sports_sr = winter_sports_sr[4:6]\n",
    "\n",
    "# final data - medal counts\n",
    "sr = pd.concat([summer_sr, winter_sr]).sort_values(by = ['Year'])\n",
    "sr = sr[['Year', 'Location', 'Total']]\n",
    "\n",
    "# final data - sports & medal counts\n",
    "sports_sr = pd.concat([summer_sports_sr, winter_sports_sr]).sort_values(by = ['Total'], ascending = False)\n",
    "sports_sr = sports_sr[['Sport', 'Total']]\n",
    "sports_sr['Country'] = 'Slovak republic'"
   ]
  },
  {
   "cell_type": "code",
   "execution_count": 12,
   "metadata": {
    "collapsed": false
   },
   "outputs": [
    {
     "name": "stderr",
     "output_type": "stream",
     "text": [
      "/opt/conda/lib/python3.5/site-packages/ipykernel/__main__.py:5: SettingWithCopyWarning: \n",
      "A value is trying to be set on a copy of a slice from a DataFrame.\n",
      "Try using .loc[row_indexer,col_indexer] = value instead\n",
      "\n",
      "See the caveats in the documentation: http://pandas.pydata.org/pandas-docs/stable/indexing.html#indexing-view-versus-copy\n",
      "/opt/conda/lib/python3.5/site-packages/ipykernel/__main__.py:10: SettingWithCopyWarning: \n",
      "A value is trying to be set on a copy of a slice from a DataFrame.\n",
      "Try using .loc[row_indexer,col_indexer] = value instead\n",
      "\n",
      "See the caveats in the documentation: http://pandas.pydata.org/pandas-docs/stable/indexing.html#indexing-view-versus-copy\n"
     ]
    }
   ],
   "source": [
    "# Czech republic\n",
    "# summer Olympics - medal counts\n",
    "summer_cr = url_cr[2]\n",
    "summer_cr = summer_cr[np.isfinite(summer_cr['Rank'])]\n",
    "summer_cr['Year'], summer_cr['Location'] = summer_cr['Games'].str.split(' ', 1).str\n",
    "\n",
    "# winter Olympics - medal counts\n",
    "winter_cr = url_cr[3]\n",
    "winter_cr = winter_cr[(np.isfinite(winter_cr['Total'])) & (winter_cr['Games'] != 'Total')]\n",
    "winter_cr['Year'], winter_cr['Location'] = winter_cr['Games'].str.split(' ', 1).str\n",
    "\n",
    "# summer Olympics - sports & medal counts\n",
    "summer_sports_cr = url_cr[5]\n",
    "summer_sports_cr = summer_sports_cr[summer_sports_cr['Sport'] != 'Total']\n",
    "\n",
    "# winter Olympics - sports & medal counts\n",
    "winter_sports_cr = url_cr[6]\n",
    "winter_sports_cr = winter_sports_cr[winter_sports_cr['Sport'] != 'Total']\n",
    "\n",
    "# final data - medal counts\n",
    "cr = pd.concat([summer_cr, winter_cr]).sort_values(by = ['Year'])\n",
    "cr = cr[['Year', 'Location', 'Total']]\n",
    "\n",
    "# final data - sports & medal counts\n",
    "sports_cr = pd.concat([summer_sports_cr, winter_sports_cr]).sort_values(by = ['Total'], ascending = False)\n",
    "sports_cr = sports_cr[['Sport', 'Total']]\n",
    "sports_cr['Country'] = 'Czech republic'"
   ]
  },
  {
   "cell_type": "code",
   "execution_count": 13,
   "metadata": {
    "collapsed": false
   },
   "outputs": [
    {
     "name": "stderr",
     "output_type": "stream",
     "text": [
      "/opt/conda/lib/python3.5/site-packages/ipykernel/__main__.py:5: SettingWithCopyWarning: \n",
      "A value is trying to be set on a copy of a slice from a DataFrame.\n",
      "Try using .loc[row_indexer,col_indexer] = value instead\n",
      "\n",
      "See the caveats in the documentation: http://pandas.pydata.org/pandas-docs/stable/indexing.html#indexing-view-versus-copy\n",
      "/opt/conda/lib/python3.5/site-packages/ipykernel/__main__.py:10: SettingWithCopyWarning: \n",
      "A value is trying to be set on a copy of a slice from a DataFrame.\n",
      "Try using .loc[row_indexer,col_indexer] = value instead\n",
      "\n",
      "See the caveats in the documentation: http://pandas.pydata.org/pandas-docs/stable/indexing.html#indexing-view-versus-copy\n"
     ]
    }
   ],
   "source": [
    "# Czechoslovakia\n",
    "# summer Olympics - medal counts\n",
    "summer_csr = url_csr[2]\n",
    "summer_csr = summer_csr[np.isfinite(summer_csr['Rank'])]\n",
    "summer_csr['Year'], summer_csr['Location'] = summer_csr['Games'].str.split(' ', 1).str\n",
    "\n",
    "# winter Olympics - medal counts\n",
    "winter_csr = url_csr[3] \n",
    "winter_csr = winter_csr[(np.isfinite(winter_csr['Total'])) & (winter_csr['Games'] != 'Total')]\n",
    "winter_csr['Year'], winter_csr['Location'] = winter_csr['Games'].str.split(' ', 1).str\n",
    "\n",
    "# summer Olympics - sports & medal counts\n",
    "summer_sports_csr = url_csr[5]\n",
    "summer_sports_csr = summer_sports_csr[summer_sports_csr['Sport'] != 'Total*']\n",
    "\n",
    "# winter Olympics - sports & medal counts\n",
    "winter_sports_csr = url_csr[6]\n",
    "winter_sports_csr = winter_sports_csr[winter_sports_csr['Sport'] != 'Total*']\n",
    "\n",
    "# final data - medal counts\n",
    "csr = pd.concat([summer_csr, winter_csr]).sort_values(by = ['Year'])\n",
    "csr = csr[['Year', 'Location', 'Total']]\n",
    "csr = csr.groupby(['Year'], as_index = False)['Total'].sum()\n",
    "\n",
    "# final data - sports & medal counts\n",
    "sports_csr = pd.concat([summer_sports_csr, winter_sports_csr]).sort_values(by = ['Total'], ascending = False)\n",
    "sports_csr = sports_csr[['Sport', 'Total']]\n",
    "sports_csr['Country'] = 'Czechoslovakia'"
   ]
  },
  {
   "cell_type": "code",
   "execution_count": 60,
   "metadata": {
    "collapsed": false
   },
   "outputs": [],
   "source": [
    "# sports & medal counts in one data file to plot it correctly\n",
    "sports = pd.concat([sports_csr.head(3), sports_cr.head(3), sports_sr.head(3)])\n",
    "sports = sports[['Country', 'Sport', 'Total']]"
   ]
  },
  {
   "cell_type": "code",
   "execution_count": 333,
   "metadata": {
    "collapsed": false
   },
   "outputs": [
    {
     "name": "stderr",
     "output_type": "stream",
     "text": [
      "/opt/conda/lib/python3.5/site-packages/matplotlib/font_manager.py:1297: UserWarning: findfont: Font family ['sans-serif'] not found. Falling back to DejaVu Sans\n",
      "  (prop.get_family(), self.defaultFamily[fontext]))\n"
     ]
    },
    {
     "data": {
      "image/png": "[encoded data removed]",
      "text/plain": [
       "<matplotlib.figure.Figure at 0x7fe065c004e0>"
      ]
     },
     "metadata": {},
     "output_type": "display_data"
    }
   ],
   "source": [
    "# plot the data - medal counts\n",
    "# compare the number of medals from 1920 - 1992 (Czechoslovakia) and 1993- (separately for SK and CZ)\n",
    "plt.figure()\n",
    "ax = plt.gca()\n",
    "\n",
    "# line charts\n",
    "csr_plot, = plt.plot(pd.to_datetime(csr['Year']),  # without the comma, \"plot1\" and \"plot2\" are tuples instead of line objects\n",
    "                    csr['Total'],\n",
    "                    color = 'green',\n",
    "                    alpha = 0.8)\n",
    "\n",
    "cr_plot, = plt.plot(pd.to_datetime(cr['Year']),\n",
    "                   cr['Total'],\n",
    "                   color = 'blue',\n",
    "                   alpha = 0.8)\n",
    "\n",
    "sr_plot, = plt.plot(pd.to_datetime(sr['Year']),\n",
    "                   sr['Total'],\n",
    "                   color = 'red',\n",
    "                   alpha = 0.8)\n",
    "\n",
    "# chart tweaking\n",
    "ax.spines['top'].set_visible(False) # don't show any borders around the chart\\n\",\n",
    "ax.spines['right'].set_visible(False)\n",
    "ax.spines['bottom'].set_visible(False)\n",
    "ax.spines['left'].set_visible(False)\n",
    "\n",
    "ax.yaxis.set_major_locator(matplotlib.ticker.MultipleLocator(2)) # only integer values on y axis\n",
    "ax.yaxis.set_major_formatter(matplotlib.ticker.StrMethodFormatter(\"{x:.0f}\"))\n",
    "\n",
    "ax.xaxis.set_major_locator(matplotlib.ticker.MaxNLocator(10)) # number of bins on x axis\n",
    "\n",
    "ax.set_title('Medal counts at the Olympic Games by country') # set title\n",
    "\n",
    "legend_csr = plt.legend([csr_plot],  # legend\n",
    "                        ['Czechoslovakia\\n(1918 - 1992)'],\n",
    "                        loc = 'upper left',\n",
    "                        frameon = False)\n",
    "\n",
    "legend_cr_sr = plt.legend([cr_plot, sr_plot],\n",
    "                          ['Czech republic\\n(1993 - 2018)',\n",
    "                           'Slovak republic\\n(1993 - 2018)'],\n",
    "                          loc = 'upper right',\n",
    "                         frameon = False)\n",
    "\n",
    "ax.add_artist(legend_csr)\n",
    "\n",
    "plt.axvline(x = pd.to_datetime('1993'),  # add vertical line for the year of separation\n",
    "           color = 'black',\n",
    "           linestyle = 'dashed')\n",
    "\n",
    "plt.show()"
   ]
  },
  {
   "cell_type": "code",
   "execution_count": 334,
   "metadata": {
    "collapsed": false,
    "scrolled": false
   },
   "outputs": [
    {
     "data": {
      "text/plain": [
       "<matplotlib.figure.Figure at 0x7fe065771198>"
      ]
     },
     "metadata": {},
     "output_type": "display_data"
    },
    {
     "name": "stderr",
     "output_type": "stream",
     "text": [
      "/opt/conda/lib/python3.5/site-packages/matplotlib/font_manager.py:1297: UserWarning: findfont: Font family ['sans-serif'] not found. Falling back to DejaVu Sans\n",
      "  (prop.get_family(), self.defaultFamily[fontext]))\n"
     ]
    },
    {
     "data": {
      "image/png": "[encoded data removed]",
      "text/plain": [
       "<matplotlib.figure.Figure at 0x7fe065c001d0>"
      ]
     },
     "metadata": {},
     "output_type": "display_data"
    }
   ],
   "source": [
    "# plot the data - sports & medal counts\n",
    "# look for the TOP 3 disciplines based on medal count\n",
    "plt.figure()\n",
    "\n",
    "# bar plot\n",
    "order = ['Czechoslovakia', 'Czech republic', 'Slovak republic']\n",
    "\n",
    "# need to reshape data to wide format\n",
    "sports_pivotted = sports.pivot('Country', 'Sport', 'Total').loc[order].fillna(0)\n",
    "sports_plot = sports_pivotted.plot(kind = 'bar', stacked = True, colormap = 'Paired')\n",
    "\n",
    "values = sports_pivotted.values\n",
    "values_list = [int(item) for sublist in values.T for item in sublist]\n",
    "\n",
    "# chart tweaking\n",
    "ax = plt.gca()\n",
    "\n",
    "ax.set_title('TOP 3 sports by medal counts at the Olympic Games\\nby country') # set title\n",
    "ax.set_xlabel('') # remove label on x axis\n",
    "plt.xticks(rotation=0) # remove rotation of ticks on x axis\n",
    "\n",
    "# display value labels\n",
    "rects = sports_plot.patches\n",
    "\n",
    "for index, rect in enumerate(rects, start=0):\n",
    "    if values_list[index] == 0:\n",
    "        continue\n",
    "    # print(index, values_list[index], rect.get_height())\n",
    "    ax.text(rect.get_x() + rect.get_width() / 2.,\n",
    "            rect.get_y() + rect.get_height() / 2.,\n",
    "            str(values_list[index]),\n",
    "            ha = 'center',\n",
    "            va = 'center',\n",
    "            color = 'white',\n",
    "            fontweight = 'bold')\n",
    "\n",
    "plt.show()"
   ]
  }
 ],
 "metadata": {
  "kernelspec": {
   "display_name": "Python 3",
   "language": "python",
   "name": "python3"
  },
  "language_info": {
   "codemirror_mode": {
    "name": "ipython",
    "version": 3
   },
   "file_extension": ".py",
   "mimetype": "text/x-python",
   "name": "python",
   "nbconvert_exporter": "python",
   "pygments_lexer": "ipython3",
   "version": "3.5.2"
  }
 },
 "nbformat": 4,
 "nbformat_minor": 1
}
