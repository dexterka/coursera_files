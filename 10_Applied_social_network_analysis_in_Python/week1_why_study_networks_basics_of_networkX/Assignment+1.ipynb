{
 "cells": [
  {
   "cell_type": "markdown",
   "metadata": {},
   "source": [
    "---\n",
    "\n",
    "_You are currently looking at **version 1.1** of this notebook. To download notebooks and datafiles, as well as get help on Jupyter notebooks in the Coursera platform, visit the [Jupyter Notebook FAQ](https://www.coursera.org/learn/python-social-network-analysis/resources/yPcBs) course resource._\n",
    "\n",
    "---"
   ]
  },
  {
   "cell_type": "markdown",
   "metadata": {},
   "source": [
    "# Assignment 1 - Creating and Manipulating Graphs\n",
    "\n",
    "Eight employees at a small company were asked to choose 3 movies that they would most enjoy watching for the upcoming company movie night. These choices are stored in the file `Employee_Movie_Choices.txt`.\n",
    "\n",
    "A second file, `Employee_Relationships.txt`, has data on the relationships between different coworkers. \n",
    "\n",
    "The relationship score has value of `-100` (Enemies) to `+100` (Best Friends). A value of zero means the two employees haven't interacted or are indifferent.\n",
    "\n",
    "Both files are tab delimited."
   ]
  },
  {
   "cell_type": "code",
   "execution_count": 1,
   "metadata": {
    "collapsed": true
   },
   "outputs": [],
   "source": [
    "import networkx as nx\n",
    "import pandas as pd\n",
    "import numpy as np\n",
    "from networkx.algorithms import bipartite\n",
    "\n",
    "\n",
    "# This is the set of employees\n",
    "employees = set(['Pablo',\n",
    "                 'Lee',\n",
    "                 'Georgia',\n",
    "                 'Vincent',\n",
    "                 'Andy',\n",
    "                 'Frida',\n",
    "                 'Joan',\n",
    "                 'Claude'])\n",
    "\n",
    "# This is the set of movies\n",
    "movies = set(['The Shawshank Redemption',\n",
    "              'Forrest Gump',\n",
    "              'The Matrix',\n",
    "              'Anaconda',\n",
    "              'The Social Network',\n",
    "              'The Godfather',\n",
    "              'Monty Python and the Holy Grail',\n",
    "              'Snakes on a Plane',\n",
    "              'Kung Fu Panda',\n",
    "              'The Dark Knight',\n",
    "              'Mean Girls'])\n",
    "\n",
    "\n",
    "# you can use the following function to plot graphs\n",
    "# make sure to comment it out before submitting to the autograder\n",
    "def plot_graph(G, weight_name=None):\n",
    "    '''\n",
    "    G: a networkx G\n",
    "    weight_name: name of the attribute for plotting edge weights (if G is weighted)\n",
    "    '''\n",
    "    %matplotlib notebook\n",
    "    import matplotlib.pyplot as plt\n",
    "    \n",
    "    plt.figure()\n",
    "    pos = nx.spring_layout(G)\n",
    "    edges = G.edges()\n",
    "    weights = None\n",
    "    \n",
    "    if weight_name:\n",
    "        weights = [int(G[u][v][weight_name]) for u,v in edges]\n",
    "        labels = nx.get_edge_attributes(G,weight_name)\n",
    "        nx.draw_networkx_edge_labels(G,pos,edge_labels=labels)\n",
    "        nx.draw_networkx(G, pos, edges=edges, width=weights);\n",
    "    else:\n",
    "        nx.draw_networkx(G, pos, edges=edges);"
   ]
  },
  {
   "cell_type": "markdown",
   "metadata": {},
   "source": [
    "### Question 1\n",
    "\n",
    "Using NetworkX, load in the bipartite graph from `Employee_Movie_Choices.txt` and return that graph.\n",
    "\n",
    "*This function should return a networkx graph with 19 nodes and 24 edges*"
   ]
  },
  {
   "cell_type": "code",
   "execution_count": 2,
   "metadata": {
    "collapsed": true
   },
   "outputs": [],
   "source": [
    "def answer_one():\n",
    "        \n",
    "    # read data\n",
    "    employees_df = pd.read_csv('Employee_Movie_Choices.txt', sep='\\t')\n",
    "    relations_df = pd.read_csv('Employee_Relationships.txt', sep = '\\t', header=None)\n",
    "    \n",
    "    # create bipartite graph\n",
    "    B = nx.Graph()\n",
    "    B.add_nodes_from(employees, bipartite=0) \n",
    "    B.add_nodes_from(movies, bipartite=1)\n",
    "    B.add_edges_from(zip(list(employees_df['#Employee']), list(employees_df['Movie'])))\n",
    "    \n",
    "    # plot bipartite graph\n",
    "#     plot_graph(B)\n",
    "\n",
    "    # check the results of bipartote graph\n",
    "    top3_movies = employees_df.groupby('#Employee')['Movie'].apply(', '.join).reset_index()\n",
    "    \n",
    "    # list all nodes and edges from bipartite graph\n",
    "    n_edges = B.number_of_edges()\n",
    "    n_nodes = B.number_of_nodes()\n",
    "#     print('Bipartite graph has %d nodes and %d edges.' % (n_nodes, n_edges))   \n",
    "    \n",
    "    return B"
   ]
  },
  {
   "cell_type": "markdown",
   "metadata": {},
   "source": [
    "### Question 2\n",
    "\n",
    "Using the graph from the previous question, add nodes attributes named `'type'` where movies have the value `'movie'` and employees have the value `'employee'` and return that graph.\n",
    "\n",
    "*This function should return a networkx graph with node attributes `{'type': 'movie'}` or `{'type': 'employee'}`*"
   ]
  },
  {
   "cell_type": "code",
   "execution_count": 3,
   "metadata": {
    "collapsed": true
   },
   "outputs": [],
   "source": [
    "def answer_two():\n",
    "    \n",
    "    # read data\n",
    "    employees_df = pd.read_csv('Employee_Movie_Choices.txt', sep='\\t')\n",
    "    relations_df = pd.read_csv('Employee_Relationships.txt', sep = '\\t', header=None)\n",
    "    \n",
    "    # create bipartite graph\n",
    "    B = nx.Graph()\n",
    "    B.add_nodes_from(employees, bipartite=0, type='employee') \n",
    "    B.add_nodes_from(movies, bipartite=1, type='movie')\n",
    "    B.add_edges_from(zip(list(employees_df['#Employee']), list(employees_df['Movie'])))\n",
    "    \n",
    "    # plot bipartite graph\n",
    "#     plot_graph(B)\n",
    "\n",
    "    # print nodes of bipartite graph with attributes\n",
    "#     print('Node attributes of bipartite graph: ', B.nodes(data=True))\n",
    "\n",
    "    return B"
   ]
  },
  {
   "cell_type": "markdown",
   "metadata": {
    "collapsed": true
   },
   "source": [
    "### Question 3\n",
    "\n",
    "Find a weighted projection of the graph from `answer_two` which tells us how many movies different pairs of employees have in common.\n",
    "\n",
    "*This function should return a weighted projected graph.*"
   ]
  },
  {
   "cell_type": "code",
   "execution_count": 4,
   "metadata": {
    "collapsed": true
   },
   "outputs": [],
   "source": [
    "def answer_three():\n",
    "        \n",
    "    # read data\n",
    "    employees_df = pd.read_csv('Employee_Movie_Choices.txt', sep='\\t')\n",
    "    relations_df = pd.read_csv('Employee_Relationships.txt', sep = '\\t', header=None)\n",
    "\n",
    "    # create bipartite graph\n",
    "    B = nx.Graph()\n",
    "    B.add_nodes_from(employees, bipartite=0, type='employee') \n",
    "    B.add_nodes_from(movies, bipartite=1, type='movie')\n",
    "    B.add_edges_from(zip(list(employees_df['#Employee']), list(employees_df['Movie'])))\n",
    "\n",
    "    # create weighted projected graph\n",
    "    P = bipartite.weighted_projected_graph(B, employees, ratio=False)\n",
    "\n",
    "    # plot bipartite graph\n",
    "#     plot_graph(P)\n",
    "\n",
    "    # print weights\n",
    "#     print('Weights for weighted projected bipartite graph: ', P.edges(data=True))\n",
    "    \n",
    "    return P"
   ]
  },
  {
   "cell_type": "markdown",
   "metadata": {
    "collapsed": true
   },
   "source": [
    "### Question 4\n",
    "\n",
    "Suppose you'd like to find out if people that have a high relationship score also like the same types of movies.\n",
    "\n",
    "Find the Pearson correlation ( using `DataFrame.corr()` ) between employee relationship scores and the number of movies they have in common. If two employees have no movies in common it should be treated as a 0, not a missing value, and should be included in the correlation calculation.\n",
    "\n",
    "*This function should return a float.*"
   ]
  },
  {
   "cell_type": "code",
   "execution_count": 64,
   "metadata": {
    "collapsed": true
   },
   "outputs": [],
   "source": [
    "def answer_four():\n",
    "        \n",
    "    # read data\n",
    "    employees_df = pd.read_csv('Employee_Movie_Choices.txt', sep='\\t')\n",
    "    relations_df = pd.read_csv('Employee_Relationships.txt', sep = '\\t', header=None)\n",
    "\n",
    "    # create bipartite graph\n",
    "    B = nx.Graph()\n",
    "    B.add_nodes_from(employees, bipartite=0, type='employee') \n",
    "    B.add_nodes_from(movies, bipartite=1, type='movie')\n",
    "    B.add_edges_from(zip(list(employees_df['#Employee']), list(employees_df['Movie'])))\n",
    "\n",
    "    # create weighted projected graph\n",
    "    P = bipartite.weighted_projected_graph(B, employees, ratio=False)\n",
    "\n",
    "    # weights\n",
    "    no_movies_in_common = P.edges(data=True)\n",
    "\n",
    "    # data manipulation\n",
    "    # movies in common\n",
    "    no_movies_in_common_df = pd.DataFrame(no_movies_in_common)\n",
    "    no_movies_in_common_df['weight'] = no_movies_in_common_df[2].apply(lambda x: x.get('weight'))\n",
    "    no_movies_in_common_df = no_movies_in_common_df[[0, 1, 'weight']]\n",
    "\n",
    "    # merge with relationship score\n",
    "    relationship_score1 = pd.merge(relations_df,\n",
    "                                 no_movies_in_common_df[[0, 1, 'weight']],\n",
    "                                 how = 'left',\n",
    "                                 left_on = [0, 1],\n",
    "                                 right_on = [0, 1]\n",
    "                                  )\n",
    "\n",
    "    relationship_score2 = pd.merge(relations_df,\n",
    "                                 no_movies_in_common_df[[0, 1, 'weight']],\n",
    "                                 how = 'left',\n",
    "                                 left_on = [0, 1],\n",
    "                                 right_on = [1, 0]\n",
    "                                  )\n",
    "\n",
    "    relationship_score = pd.merge(relationship_score1,\n",
    "                                 relationship_score2[['key_0', 1, 'weight']],\n",
    "                                  how = 'left',\n",
    "                                  left_on = [0, 1],\n",
    "                                  right_on = ['key_0', 1]\n",
    "                                 )\n",
    "\n",
    "    relationship_score['weight'] = (\n",
    "        np.where(relationship_score['weight_x'].isnull() & relationship_score['weight_y'].notnull(), relationship_score['weight_y'],\n",
    "            (np.where(relationship_score['weight_x'].notnull() & relationship_score['weight_y'].isnull(), relationship_score['weight_x'], 0)\n",
    "            )\n",
    "                )\n",
    "    )\n",
    "\n",
    "    # rename columns\n",
    "    relationship_score = relationship_score[[0, 1, 2, 'weight']]\n",
    "    relationship_score.columns = ['employee1', 'employee2', 'score', 'movies_in_common']\n",
    "\n",
    "    # calculate Pearson correlation coefficient\n",
    "    pearson_corr_coeff = relationship_score['score'].corr(relationship_score['movies_in_common'])\n",
    "\n",
    "    # with significance\n",
    "#     from scipy.stats import pearsonr\n",
    "#     corr_coeff = pearsonr(relationship_score['score'], relationship_score['movies_in_common'])\n",
    "#     corr_coeff_value = corr_coeff[0]\n",
    "#     corr_coeff_pvalue = corr_coeff[1]\n",
    "#     print('Pearson correlation coefficient: %0.6f and its p-value: %0.6f.' % (corr_coeff_value, corr_coeff_pvalue))\n",
    "    \n",
    "    return pearson_corr_coeff"
   ]
  }
 ],
 "metadata": {
  "coursera": {
   "course_slug": "python-social-network-analysis",
   "graded_item_id": "YNa9b",
   "launcher_item_id": "hvNc1",
   "part_id": "VbyiB"
  },
  "kernelspec": {
   "display_name": "Python 3",
   "language": "python",
   "name": "python3"
  },
  "language_info": {
   "codemirror_mode": {
    "name": "ipython",
    "version": 3
   },
   "file_extension": ".py",
   "mimetype": "text/x-python",
   "name": "python",
   "nbconvert_exporter": "python",
   "pygments_lexer": "ipython3",
   "version": "3.6.2"
  }
 },
 "nbformat": 4,
 "nbformat_minor": 2
}
