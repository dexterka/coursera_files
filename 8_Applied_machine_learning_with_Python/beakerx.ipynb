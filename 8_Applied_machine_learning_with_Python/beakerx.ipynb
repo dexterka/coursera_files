{
 "cells": [
  {
   "cell_type": "code",
   "execution_count": 1,
   "metadata": {},
   "outputs": [],
   "source": [
    "import pandas as pd\n",
    "from beakerx import *"
   ]
  },
  {
   "cell_type": "code",
   "execution_count": 3,
   "metadata": {},
   "outputs": [
    {
     "data": {
      "application/vnd.jupyter.widget-view+json": {
       "model_id": "0d5efd9f6fb542bcbc81a651f9ab394d",
       "version_major": 2,
       "version_minor": 0
      }
     },
     "metadata": {},
     "output_type": "display_data"
    }
   ],
   "source": [
    "pd.read_html('https://en.wikipedia.org/wiki/Slovakia_at_the_Olympics')[2]"
   ]
  }
 ],
 "metadata": {
  "kernelspec": {
   "display_name": "Python 3",
   "language": "python",
   "name": "python3"
  },
  "language_info": {
   "codemirror_mode": {
    "name": "ipython",
    "version": 3
   },
   "file_extension": ".py",
   "mimetype": "text/x-python",
   "name": "python",
   "nbconvert_exporter": "python",
   "pygments_lexer": "ipython3",
   "version": "3.6.6"
  },
  "toc": {
   "base_numbering": 1,
   "nav_menu": {},
   "number_sections": false,
   "sideBar": false,
   "skip_h1_title": false,
   "title_cell": "Table of Contents",
   "title_sidebar": "Contents",
   "toc_cell": false,
   "toc_position": {},
   "toc_section_display": false,
   "toc_window_display": false
  },
  "widgets": {
   "application/vnd.jupyter.widget-state+json": {
    "state": {
     "5db4ae922a6748c5b798e01c4fb4648a": {
      "model_module": "beakerx",
      "model_module_version": "*",
      "model_name": "TableDisplayModel",
      "state": {
       "layout": "IPY_MODEL_d5a2bfa9e76049bebe9e55bed1fc6509",
       "model": {
        "alignmentForColumn": {},
        "alignmentForType": {},
        "cellHighlighters": [],
        "columnNames": [
         0,
         1,
         2,
         3,
         4,
         5,
         6
        ],
        "columnOrder": [],
        "columnsFrozen": {},
        "columnsFrozenRight": {},
        "columnsVisible": {},
        "contextMenuItems": [],
        "contextMenuTags": {},
        "fontColor": [],
        "hasDoubleClickAction": false,
        "headersVertical": false,
        "rendererForColumn": {},
        "rendererForType": {},
        "stringFormatForColumn": {},
        "stringFormatForType": {},
        "subtype": "ListOfMaps",
        "tooManyRows": false,
        "tooltips": [],
        "type": "TableDisplay",
        "types": [
         "string",
         "string",
         "string",
         "string",
         "string",
         "string",
         "string"
        ],
        "values": [
         [
          "Games",
          "Athletes",
          "Gold",
          "Silver",
          "Bronze",
          "Total",
          "Rank"
         ],
         [
          "1896–1912",
          "as part of Hungary (HUN)",
          "nan",
          "nan",
          "nan",
          "nan",
          "nan"
         ],
         [
          "1920–1992",
          "as part of Czechoslovakia (TCH)",
          "nan",
          "nan",
          "nan",
          "nan",
          "nan"
         ],
         [
          "1996 Atlanta",
          "71",
          "1",
          "1",
          "1",
          "3",
          "43"
         ],
         [
          "2000 Sydney",
          "112",
          "1",
          "3",
          "1",
          "5",
          "39"
         ],
         [
          "2004 Athens",
          "64",
          "2",
          "2",
          "2",
          "6",
          "29"
         ],
         [
          "2008 Beijing",
          "58",
          "3",
          "3",
          "0",
          "6",
          "25"
         ],
         [
          "2012 London",
          "47",
          "0",
          "1",
          "3",
          "4",
          "59"
         ],
         [
          "2016 Rio de Janeiro",
          "51",
          "2",
          "2",
          "0",
          "4",
          "37"
         ],
         [
          "2020 Tokyo",
          "future event",
          "nan",
          "nan",
          "nan",
          "nan",
          "nan"
         ],
         [
          "2024 Paris",
          "future event",
          "nan",
          "nan",
          "nan",
          "nan",
          "nan"
         ],
         [
          "2028 Los Angeles",
          "future event",
          "nan",
          "nan",
          "nan",
          "nan",
          "nan"
         ],
         [
          "Total",
          "9",
          "12",
          "7",
          "28",
          "53",
          "nan"
         ]
        ]
       }
      }
     },
     "d5a2bfa9e76049bebe9e55bed1fc6509": {
      "model_module": "@jupyter-widgets/base",
      "model_module_version": "*",
      "model_name": "LayoutModel",
      "state": {
       "_model_module_version": "*",
       "_view_module_version": "*"
      }
     }
    },
    "version_major": 2,
    "version_minor": 0
   }
  }
 },
 "nbformat": 4,
 "nbformat_minor": 2
}
