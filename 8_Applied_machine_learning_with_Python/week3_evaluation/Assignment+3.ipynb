{
 "cells": [
  {
   "cell_type": "markdown",
   "metadata": {},
   "source": [
    "---\n",
    "\n",
    "_You are currently looking at **version 1.2** of this notebook. To download notebooks and datafiles, as well as get help on Jupyter notebooks in the Coursera platform, visit the [Jupyter Notebook FAQ](https://www.coursera.org/learn/python-machine-learning/resources/bANLa) course resource._\n",
    "\n",
    "---"
   ]
  },
  {
   "cell_type": "markdown",
   "metadata": {},
   "source": [
    "# Assignment 3 - Evaluation\n",
    "\n",
    "In this assignment you will train several models and evaluate how effectively they predict instances of fraud using data based on [this dataset from Kaggle](https://www.kaggle.com/dalpozz/creditcardfraud).\n",
    " \n",
    "Each row in `fraud_data.csv` corresponds to a credit card transaction. Features include confidential variables `V1` through `V28` as well as `Amount` which is the amount of the transaction. \n",
    " \n",
    "The target is stored in the `class` column, where a value of 1 corresponds to an instance of fraud and 0 corresponds to an instance of not fraud."
   ]
  },
  {
   "cell_type": "code",
   "execution_count": 1,
   "metadata": {
    "collapsed": true
   },
   "outputs": [],
   "source": [
    "import numpy as np\n",
    "import pandas as pd"
   ]
  },
  {
   "cell_type": "markdown",
   "metadata": {},
   "source": [
    "### Question 1\n",
    "Import the data from `fraud_data.csv`. What percentage of the observations in the dataset are instances of fraud?\n",
    "\n",
    "*This function should return a float between 0 and 1.* "
   ]
  },
  {
   "cell_type": "code",
   "execution_count": 2,
   "metadata": {
    "collapsed": true
   },
   "outputs": [],
   "source": [
    "# Use X_train, X_test, y_train, y_test for all of the following questions\n",
    "from sklearn.model_selection import train_test_split\n",
    "\n",
    "df = pd.read_csv('fraud_data.csv')\n",
    "\n",
    "X = df.iloc[:,:-1]\n",
    "y = df.iloc[:,-1]\n",
    "\n",
    "X_train, X_test, y_train, y_test = train_test_split(X, y, random_state=0)"
   ]
  },
  {
   "cell_type": "code",
   "execution_count": 3,
   "metadata": {
    "collapsed": false
   },
   "outputs": [],
   "source": [
    "def answer_one():\n",
    "    \n",
    "    # read data\n",
    "    data_fraud_raw = pd.read_csv('fraud_data.csv')\n",
    "    \n",
    "    # percentage of fraud instances (class = 1)\n",
    "    result_answer_one = data_fraud_raw['Class'].value_counts(normalize = True).iloc[1]\n",
    "    \n",
    "    return result_answer_one\n",
    "\n",
    "# answer_one()\n",
    "# type(answer_one())"
   ]
  },
  {
   "cell_type": "markdown",
   "metadata": {},
   "source": [
    "### Question 2\n",
    "\n",
    "Using `X_train`, `X_test`, `y_train`, and `y_test` (as defined above), train a dummy classifier that classifies everything as the majority class of the training data. What is the accuracy of this classifier? What is the recall?\n",
    "\n",
    "*This function should a return a tuple with two floats, i.e. `(accuracy score, recall score)`.*"
   ]
  },
  {
   "cell_type": "code",
   "execution_count": 4,
   "metadata": {
    "collapsed": false
   },
   "outputs": [],
   "source": [
    "def answer_two():\n",
    "    from sklearn.dummy import DummyClassifier\n",
    "    from sklearn.metrics import recall_score, accuracy_score\n",
    "    \n",
    "    # train a dummy classifier (that classifies everythong as the majority class == 0; not fraudulent)\n",
    "    dummy_majority = DummyClassifier(strategy = 'most_frequent').fit(X_train, y_train)\n",
    "    \n",
    "    # predictions\n",
    "    y_dummy_predictions = dummy_majority.predict(X_test)\n",
    "    \n",
    "    # calculate accuracy and recall\n",
    "    accuracy_score_answer_two = accuracy_score(y_test, y_dummy_predictions)\n",
    "    recall_score_answer_two = recall_score(y_test, y_dummy_predictions) \n",
    "    result_answer_two = tuple(np.asarray([accuracy_score_answer_two, recall_score_answer_two]))\n",
    "    \n",
    "    return result_answer_two\n",
    "\n",
    "# answer_two()"
   ]
  },
  {
   "cell_type": "markdown",
   "metadata": {},
   "source": [
    "### Question 3\n",
    "\n",
    "Using X_train, X_test, y_train, y_test (as defined above), train a SVC classifer using the default parameters. What is the accuracy, recall, and precision of this classifier?\n",
    "\n",
    "*This function should a return a tuple with three floats, i.e. `(accuracy score, recall score, precision score)`.*"
   ]
  },
  {
   "cell_type": "code",
   "execution_count": 5,
   "metadata": {
    "collapsed": false
   },
   "outputs": [],
   "source": [
    "def answer_three():\n",
    "    from sklearn.metrics import recall_score, precision_score, accuracy_score\n",
    "    from sklearn.svm import SVC\n",
    "\n",
    "    # train a SVC classifier with default parameters\n",
    "    svc_answer_three = SVC(kernel = 'rbf', C = 1).fit(X_train, y_train)\n",
    "    svc_predicted_answer_three = svc_answer_three.predict(X_test)\n",
    "    \n",
    "    # calculate accuracy, recall and precision    \n",
    "    accuracy_score_answer_three = accuracy_score(y_test, svc_predicted_answer_three)\n",
    "    recall_score_answer_three = recall_score(y_test, svc_predicted_answer_three)\n",
    "    precision_score_answer_three = precision_score(y_test, svc_predicted_answer_three)\n",
    "    result_answer_three = tuple(np.asarray([accuracy_score_answer_three,\n",
    "                                            recall_score_answer_three,\n",
    "                                            precision_score_answer_three]))\n",
    "    \n",
    "    return result_answer_three\n",
    "\n",
    "# answer_three()\n",
    "# type(answer_three())"
   ]
  },
  {
   "cell_type": "markdown",
   "metadata": {},
   "source": [
    "### Question 4\n",
    "\n",
    "Using the SVC classifier with parameters `{'C': 1e9, 'gamma': 1e-07}`, what is the confusion matrix when using a threshold of -220 on the decision function. Use X_test and y_test.\n",
    "\n",
    "*This function should return a confusion matrix, a 2x2 numpy array with 4 integers.*"
   ]
  },
  {
   "cell_type": "code",
   "execution_count": 6,
   "metadata": {
    "collapsed": false
   },
   "outputs": [],
   "source": [
    "def answer_four():\n",
    "    from sklearn.metrics import confusion_matrix\n",
    "    from sklearn.svm import SVC\n",
    "\n",
    "    # fit the model using SVC classifier\n",
    "    svc_answer_four = SVC(C = 1e9, gamma = 1e-07).fit(X_train, y_train)\n",
    "    svc_predicted_answer_four = svc_answer_four.decision_function(X_test)\n",
    "    \n",
    "    # set the treshold for decision function\n",
    "    treshold_answer_four = -220\n",
    "    svc_predicted_answer_four[svc_predicted_answer_four > treshold_answer_four] = 1\n",
    "    svc_predicted_answer_four[svc_predicted_answer_four != 1] = 0\n",
    "\n",
    "    # calculate the confusion matrix\n",
    "    confusion_matrix_answer_four = confusion_matrix(y_test, svc_predicted_answer_four)\n",
    "    \n",
    "    return confusion_matrix_answer_four\n",
    "\n",
    "# answer_four()\n",
    "# type(answer_four())"
   ]
  },
  {
   "cell_type": "markdown",
   "metadata": {},
   "source": [
    "### Question 5\n",
    "\n",
    "Train a logisitic regression classifier with default parameters using X_train and y_train.\n",
    "\n",
    "For the logisitic regression classifier, create a precision recall curve and a roc curve using y_test and the probability estimates for X_test (probability it is fraud).\n",
    "\n",
    "Looking at the precision recall curve, what is the recall when the precision is `0.75`?\n",
    "\n",
    "Looking at the roc curve, what is the true positive rate when the false positive rate is `0.16`?\n",
    "\n",
    "*This function should return a tuple with two floats, i.e. `(recall, true positive rate)`.*"
   ]
  },
  {
   "cell_type": "code",
   "execution_count": 49,
   "metadata": {
    "collapsed": false
   },
   "outputs": [
    {
     "data": {
      "text/plain": [
       "(0.82499999999999996, 0.9375)"
      ]
     },
     "execution_count": 49,
     "metadata": {},
     "output_type": "execute_result"
    }
   ],
   "source": [
    "def answer_five():\n",
    "        \n",
    "    from sklearn.linear_model import LogisticRegression\n",
    "    from sklearn.metrics import precision_recall_curve, roc_curve, auc\n",
    "#     import matplotlib.pyplot as plt\n",
    "\n",
    "    # fit the model using logistic regression classifier\n",
    "    logreg_answer_five = LogisticRegression().fit(X_train, y_train)\n",
    "    logreg_predicted_answer_five = logreg_answer_five.decision_function(X_test)\n",
    "\n",
    "    # create precision-recall curve\n",
    "    precision, recall, thresholds = precision_recall_curve(y_test, logreg_predicted_answer_five)\n",
    "    closest_zero = np.argmin(np.abs(thresholds))\n",
    "    closest_zero_p = precision[closest_zero]\n",
    "    closest_zero_r = recall[closest_zero]\n",
    "    recall_at_defined_precision = recall[np.where(precision == 0.75)[0][0]]\n",
    "#     print('Recall at precision set to 0.75: ', recall_at_defined_precision)\n",
    "\n",
    "#     plt.figure()\n",
    "#     plt.xlim([0.0, 1.01])\n",
    "#     plt.ylim([0.0, 1.01])\n",
    "#     plt.plot(precision, recall, label='Precision-Recall Curve')\n",
    "#     plt.plot(closest_zero_p, closest_zero_r, 'o', markersize = 12, fillstyle = 'none', c='r', mew=3)\n",
    "#     plt.xlabel('Precision', fontsize=16)\n",
    "#     plt.ylabel('Recall', fontsize=16)\n",
    "#     plt.axes().set_aspect('equal')\n",
    "#     plt.show()\n",
    "\n",
    "    # create ROC curve\n",
    "    logreg_prob_answer_five = logreg_answer_five.predict_proba(X_test)\n",
    "    fpr_lr, tpr_lr, _ = roc_curve(y_test, logreg_prob_answer_five[:, 1])\n",
    "    roc_auc_lr = auc(fpr_lr, tpr_lr)\n",
    "    tpr_at_defined_fpr = tpr_lr[np.where(np.round(fpr_lr, 2) == 0.16)[0][0]]\n",
    "#     print('True positive rate at false positive rate set to 0.16: ', tpr_at_defined_fpr)\n",
    "\n",
    "#     plt.figure()\n",
    "#     plt.xlim([-0.01, 1.00])\n",
    "#     plt.ylim([-0.01, 1.01])\n",
    "#     plt.plot(fpr_lr, tpr_lr, lw=3, label='LogRegr ROC curve (area = {:0.2f})'.format(roc_auc_lr))\n",
    "#     plt.xlabel('False Positive Rate', fontsize=16)\n",
    "#     plt.ylabel('True Positive Rate', fontsize=16)\n",
    "#     plt.title('ROC curve (Fraud data)', fontsize=16)\n",
    "#     plt.legend(loc='lower right', fontsize=13)\n",
    "#     plt.plot([0, 1], [0, 1], color='navy', lw=3, linestyle='--')\n",
    "#     plt.axes().set_aspect('equal')\n",
    "#     plt.show()\n",
    "\n",
    "    # results converted to a tuple\n",
    "    result_answer_five = tuple(np.asarray([recall_at_defined_precision, tpr_at_defined_fpr]))\n",
    "    \n",
    "    return result_answer_five\n",
    "\n",
    "# answer_five()\n",
    "# type(answer_five())"
   ]
  },
  {
   "cell_type": "markdown",
   "metadata": {},
   "source": [
    "### Question 6\n",
    "\n",
    "Perform a grid search over the parameters listed below for a Logisitic Regression classifier, using recall for scoring and the default 3-fold cross validation.\n",
    "\n",
    "`'penalty': ['l1', 'l2']`\n",
    "\n",
    "`'C':[0.01, 0.1, 1, 10, 100]`\n",
    "\n",
    "From `.cv_results_`, create an array of the mean test scores of each parameter combination. i.e.\n",
    "\n",
    "|      \t| `l1` \t| `l2` \t|\n",
    "|:----:\t|----\t|----\t|\n",
    "| **`0.01`** \t|    ?\t|   ? \t|\n",
    "| **`0.1`**  \t|    ?\t|   ? \t|\n",
    "| **`1`**    \t|    ?\t|   ? \t|\n",
    "| **`10`**   \t|    ?\t|   ? \t|\n",
    "| **`100`**   \t|    ?\t|   ? \t|\n",
    "\n",
    "<br>\n",
    "\n",
    "*This function should return a 5 by 2 numpy array with 10 floats.* \n",
    "\n",
    "*Note: do not return a DataFrame, just the values denoted by '?' above in a numpy array. You might need to reshape your raw result to meet the format we are looking for.*"
   ]
  },
  {
   "cell_type": "code",
   "execution_count": 44,
   "metadata": {
    "collapsed": false
   },
   "outputs": [
    {
     "data": {
      "text/plain": [
       "numpy.ndarray"
      ]
     },
     "execution_count": 44,
     "metadata": {},
     "output_type": "execute_result"
    }
   ],
   "source": [
    "def answer_six():    \n",
    "    from sklearn.model_selection import GridSearchCV\n",
    "    from sklearn.linear_model import LogisticRegression\n",
    "\n",
    "    # fit the model using logistic regression classifier\n",
    "    logreg_answer_six = LogisticRegression().fit(X_train, y_train)\n",
    "\n",
    "    # define parameters\n",
    "    params_grid = {'C': [0.01, 0.1, 1, 10, 100],\n",
    "                   'penalty': ['l1', 'l2']\n",
    "                  }\n",
    "\n",
    "    # create GridSearchCV object\n",
    "    grid_answer_six = GridSearchCV(logreg_answer_six, params_grid, scoring = 'recall', cv = 3).fit(X_train, y_train)\n",
    "\n",
    "    # mean test scores from cv_results_\n",
    "    result_answer_six = grid_answer_six.cv_results_['mean_test_score'].reshape((5,2))\n",
    "    \n",
    "    return result_answer_six\n",
    "\n",
    "# answer_six()\n",
    "# type(answer_six())"
   ]
  },
  {
   "cell_type": "code",
   "execution_count": 46,
   "metadata": {
    "collapsed": false
   },
   "outputs": [],
   "source": [
    "# Use the following function to help visualize results from the grid search\n",
    "def GridSearch_Heatmap(scores):\n",
    "    %matplotlib notebook\n",
    "    import seaborn as sns\n",
    "    import matplotlib.pyplot as plt\n",
    "    plt.figure()\n",
    "    sns.heatmap(scores.reshape(5,2), xticklabels=['l1','l2'], yticklabels=[0.01, 0.1, 1, 10, 100])\n",
    "    plt.yticks(rotation=0);\n",
    "\n",
    "# GridSearch_Heatmap(answer_six())"
   ]
  }
 ],
 "metadata": {
  "coursera": {
   "course_slug": "python-machine-learning",
   "graded_item_id": "5yX9Z",
   "launcher_item_id": "eqnV3",
   "part_id": "Msnj0"
  },
  "kernelspec": {
   "display_name": "Python 3",
   "language": "python",
   "name": "python3"
  },
  "language_info": {
   "codemirror_mode": {
    "name": "ipython",
    "version": 3
   },
   "file_extension": ".py",
   "mimetype": "text/x-python",
   "name": "python",
   "nbconvert_exporter": "python",
   "pygments_lexer": "ipython3",
   "version": "3.6.2"
  }
 },
 "nbformat": 4,
 "nbformat_minor": 2
}
