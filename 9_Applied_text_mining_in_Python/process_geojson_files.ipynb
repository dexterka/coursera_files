{
 "cells": [
  {
   "cell_type": "code",
   "execution_count": 78,
   "metadata": {},
   "outputs": [
    {
     "data": {
      "text/html": [
       "<div>\n",
       "<style scoped>\n",
       "    .dataframe tbody tr th:only-of-type {\n",
       "        vertical-align: middle;\n",
       "    }\n",
       "\n",
       "    .dataframe tbody tr th {\n",
       "        vertical-align: top;\n",
       "    }\n",
       "\n",
       "    .dataframe thead th {\n",
       "        text-align: right;\n",
       "    }\n",
       "</style>\n",
       "<table border=\"1\" class=\"dataframe\">\n",
       "  <thead>\n",
       "    <tr style=\"text-align: right;\">\n",
       "      <th></th>\n",
       "      <th>area</th>\n",
       "      <th>lat</th>\n",
       "      <th>lon</th>\n",
       "    </tr>\n",
       "  </thead>\n",
       "  <tbody>\n",
       "    <tr>\n",
       "      <th>0</th>\n",
       "      <td>1678212.92</td>\n",
       "      <td>48.718773</td>\n",
       "      <td>18.257780</td>\n",
       "    </tr>\n",
       "    <tr>\n",
       "      <th>1</th>\n",
       "      <td>1616077.26</td>\n",
       "      <td>48.126694</td>\n",
       "      <td>17.129427</td>\n",
       "    </tr>\n",
       "    <tr>\n",
       "      <th>2</th>\n",
       "      <td>1910151.36</td>\n",
       "      <td>48.588867</td>\n",
       "      <td>17.834599</td>\n",
       "    </tr>\n",
       "    <tr>\n",
       "      <th>3</th>\n",
       "      <td>1585609.64</td>\n",
       "      <td>49.058505</td>\n",
       "      <td>20.299967</td>\n",
       "    </tr>\n",
       "    <tr>\n",
       "      <th>4</th>\n",
       "      <td>1530469.51</td>\n",
       "      <td>49.058180</td>\n",
       "      <td>20.299597</td>\n",
       "    </tr>\n",
       "  </tbody>\n",
       "</table>\n",
       "</div>"
      ],
      "text/plain": [
       "         area        lat        lon\n",
       "0  1678212.92  48.718773  18.257780\n",
       "1  1616077.26  48.126694  17.129427\n",
       "2  1910151.36  48.588867  17.834599\n",
       "3  1585609.64  49.058505  20.299967\n",
       "4  1530469.51  49.058180  20.299597"
      ]
     },
     "execution_count": 78,
     "metadata": {},
     "output_type": "execute_result"
    }
   ],
   "source": [
    "import glob\n",
    "import json\n",
    "\n",
    "path = 'd:/#projekty#/GEO/externe_data/Telekom/distances/walk'\n",
    "files = [f for f in glob.glob(path + \"**/*.geojson\", recursive=True)]\n",
    "\n",
    "final_data_lst = list()\n",
    "\n",
    "for f in files:\n",
    "    data_raw = json.load(open(f, 'r'))\n",
    "    result = {\n",
    "                'lon': data_raw['features'][-1]['properties']['center'][0],\n",
    "                'lat': data_raw['features'][-1]['properties']['center'][1],\n",
    "                'area': data_raw['features'][-1]['properties']['area']\n",
    "            }\n",
    "    final_data_lst.append(result)\n",
    "\n",
    "final_data_lst\n",
    "pd.DataFrame(final_data_lst).head()"
   ]
  }
 ],
 "metadata": {
  "kernelspec": {
   "display_name": "Python [conda env:9_Applied_text_mining_in_Python]",
   "language": "python",
   "name": "conda-env-9_Applied_text_mining_in_Python-py"
  },
  "language_info": {
   "codemirror_mode": {
    "name": "ipython",
    "version": 3
   },
   "file_extension": ".py",
   "mimetype": "text/x-python",
   "name": "python",
   "nbconvert_exporter": "python",
   "pygments_lexer": "ipython3",
   "version": "3.6.8"
  },
  "toc": {
   "base_numbering": 1,
   "nav_menu": {},
   "number_sections": false,
   "sideBar": false,
   "skip_h1_title": false,
   "title_cell": "Table of Contents",
   "title_sidebar": "Contents",
   "toc_cell": false,
   "toc_position": {},
   "toc_section_display": false,
   "toc_window_display": false
  }
 },
 "nbformat": 4,
 "nbformat_minor": 2
}
