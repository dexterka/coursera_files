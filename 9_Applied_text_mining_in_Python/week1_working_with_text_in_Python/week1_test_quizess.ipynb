{
 "cells": [
  {
   "cell_type": "code",
   "execution_count": 15,
   "metadata": {},
   "outputs": [
    {
     "data": {
      "text/plain": [
       "['#regex', '#pandas', '#python']"
      ]
     },
     "execution_count": 15,
     "metadata": {},
     "output_type": "execute_result"
    }
   ],
   "source": [
    "# Write code that would extract hashtags from the following tweet:\n",
    "tweet = \"@nltk Text analysis is awesome! #regex #pandas #python\"\n",
    "\n",
    "# split the text to words\n",
    "tweet_words = tweet.split(' ')\n",
    "tweet_words\n",
    "\n",
    "# extract hashtags\n",
    "# import re\n",
    "\n",
    "hashtags = list()\n",
    "\n",
    "for hashtag in tweet_words:\n",
    "#      if re.search('^#.*', hashtag):\n",
    "    if hashtag.startswith('#'):\n",
    "        hashtags.append(hashtag)\n",
    "\n",
    "hashtags"
   ]
  },
  {
   "cell_type": "code",
   "execution_count": 13,
   "metadata": {},
   "outputs": [
    {
     "name": "stdout",
     "output_type": "stream",
     "text": [
      "['#regex', '#pandas', '#python']\n"
     ]
    }
   ],
   "source": [
    "# solution\n",
    "print([word for word in tweet.split() if word.startswith('#')])"
   ]
  },
  {
   "cell_type": "code",
   "execution_count": 16,
   "metadata": {},
   "outputs": [
    {
     "name": "stdout",
     "output_type": "stream",
     "text": [
      "Slovenčina je nielen pekný jazyk, ale aj zložitý. \n",
      " Slovak language is beautiful as well as difficult.\n"
     ]
    }
   ],
   "source": [
    "# # Internationalization and Issues with Non-ASCII Characters\n",
    "# Even though we have so many languages around the world, the computer systems are still not necessarily well-equipped to accept inputs in all languages. Are you able to type in words in your native language in its native script?\n",
    "\n",
    "# Type the name of your first language in the native script (when possible)\n",
    "# Type the name of your first language in English\n",
    "# Run the code and see if python can print the text\n",
    "\n",
    "native_name = \"Slovenčina je nielen pekný jazyk, ale aj zložitý.\"\n",
    "\n",
    "english_name = \"Slovak language is beautiful as well as difficult.\"\n",
    "\n",
    "print(native_name, '\\n', english_name)"
   ]
  }
 ],
 "metadata": {
  "kernelspec": {
   "display_name": "Python [conda env:Anaconda3]",
   "language": "python",
   "name": "conda-env-Anaconda3-py"
  },
  "language_info": {
   "codemirror_mode": {
    "name": "ipython",
    "version": 3
   },
   "file_extension": ".py",
   "mimetype": "text/x-python",
   "name": "python",
   "nbconvert_exporter": "python",
   "pygments_lexer": "ipython3",
   "version": "3.5.5"
  },
  "toc": {
   "base_numbering": 1.0,
   "nav_menu": {},
   "number_sections": false,
   "sideBar": false,
   "skip_h1_title": false,
   "title_cell": "Table of Contents",
   "title_sidebar": "Contents",
   "toc_cell": false,
   "toc_position": {},
   "toc_section_display": false,
   "toc_window_display": false
  }
 },
 "nbformat": 4,
 "nbformat_minor": 2
}
