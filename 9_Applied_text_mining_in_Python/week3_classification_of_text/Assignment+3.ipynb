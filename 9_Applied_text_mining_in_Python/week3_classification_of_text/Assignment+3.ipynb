{
 "cells": [
  {
   "cell_type": "markdown",
   "metadata": {},
   "source": [
    "---\n",
    "\n",
    "_You are currently looking at **version 1.1** of this notebook. To download notebooks and datafiles, as well as get help on Jupyter notebooks in the Coursera platform, visit the [Jupyter Notebook FAQ](https://www.coursera.org/learn/python-text-mining/resources/d9pwm) course resource._\n",
    "\n",
    "---"
   ]
  },
  {
   "cell_type": "markdown",
   "metadata": {},
   "source": [
    "# Assignment 3\n",
    "\n",
    "In this assignment you will explore text message data and create models to predict if a message is spam or not. "
   ]
  },
  {
   "cell_type": "code",
   "execution_count": 97,
   "metadata": {},
   "outputs": [
    {
     "data": {
      "text/html": [
       "<div>\n",
       "<style>\n",
       "    .dataframe thead tr:only-child th {\n",
       "        text-align: right;\n",
       "    }\n",
       "\n",
       "    .dataframe thead th {\n",
       "        text-align: left;\n",
       "    }\n",
       "\n",
       "    .dataframe tbody tr th {\n",
       "        vertical-align: top;\n",
       "    }\n",
       "</style>\n",
       "<table border=\"1\" class=\"dataframe\">\n",
       "  <thead>\n",
       "    <tr style=\"text-align: right;\">\n",
       "      <th></th>\n",
       "      <th>text</th>\n",
       "      <th>target</th>\n",
       "    </tr>\n",
       "  </thead>\n",
       "  <tbody>\n",
       "    <tr>\n",
       "      <th>0</th>\n",
       "      <td>Go until jurong point, crazy.. Available only ...</td>\n",
       "      <td>0</td>\n",
       "    </tr>\n",
       "    <tr>\n",
       "      <th>1</th>\n",
       "      <td>Ok lar... Joking wif u oni...</td>\n",
       "      <td>0</td>\n",
       "    </tr>\n",
       "    <tr>\n",
       "      <th>2</th>\n",
       "      <td>Free entry in 2 a wkly comp to win FA Cup fina...</td>\n",
       "      <td>1</td>\n",
       "    </tr>\n",
       "    <tr>\n",
       "      <th>3</th>\n",
       "      <td>U dun say so early hor... U c already then say...</td>\n",
       "      <td>0</td>\n",
       "    </tr>\n",
       "    <tr>\n",
       "      <th>4</th>\n",
       "      <td>Nah I don't think he goes to usf, he lives aro...</td>\n",
       "      <td>0</td>\n",
       "    </tr>\n",
       "    <tr>\n",
       "      <th>5</th>\n",
       "      <td>FreeMsg Hey there darling it's been 3 week's n...</td>\n",
       "      <td>1</td>\n",
       "    </tr>\n",
       "    <tr>\n",
       "      <th>6</th>\n",
       "      <td>Even my brother is not like to speak with me. ...</td>\n",
       "      <td>0</td>\n",
       "    </tr>\n",
       "    <tr>\n",
       "      <th>7</th>\n",
       "      <td>As per your request 'Melle Melle (Oru Minnamin...</td>\n",
       "      <td>0</td>\n",
       "    </tr>\n",
       "    <tr>\n",
       "      <th>8</th>\n",
       "      <td>WINNER!! As a valued network customer you have...</td>\n",
       "      <td>1</td>\n",
       "    </tr>\n",
       "    <tr>\n",
       "      <th>9</th>\n",
       "      <td>Had your mobile 11 months or more? U R entitle...</td>\n",
       "      <td>1</td>\n",
       "    </tr>\n",
       "  </tbody>\n",
       "</table>\n",
       "</div>"
      ],
      "text/plain": [
       "                                                text  target\n",
       "0  Go until jurong point, crazy.. Available only ...       0\n",
       "1                      Ok lar... Joking wif u oni...       0\n",
       "2  Free entry in 2 a wkly comp to win FA Cup fina...       1\n",
       "3  U dun say so early hor... U c already then say...       0\n",
       "4  Nah I don't think he goes to usf, he lives aro...       0\n",
       "5  FreeMsg Hey there darling it's been 3 week's n...       1\n",
       "6  Even my brother is not like to speak with me. ...       0\n",
       "7  As per your request 'Melle Melle (Oru Minnamin...       0\n",
       "8  WINNER!! As a valued network customer you have...       1\n",
       "9  Had your mobile 11 months or more? U R entitle...       1"
      ]
     },
     "execution_count": 97,
     "metadata": {},
     "output_type": "execute_result"
    }
   ],
   "source": [
    "import pandas as pd\n",
    "import numpy as np\n",
    "\n",
    "spam_data = pd.read_csv('spam.csv')\n",
    "\n",
    "# spam_yes = 1, spam_no = 0\n",
    "spam_data['target'] = np.where(spam_data['target']=='spam',1,0)\n",
    "spam_data.head(10)"
   ]
  },
  {
   "cell_type": "code",
   "execution_count": 98,
   "metadata": {
    "collapsed": true
   },
   "outputs": [],
   "source": [
    "from sklearn.model_selection import train_test_split\n",
    "\n",
    "\n",
    "# 75% vs. 25% split\n",
    "X_train, X_test, y_train, y_test = train_test_split(spam_data['text'], \n",
    "                                                    spam_data['target'], \n",
    "                                                    random_state=0)"
   ]
  },
  {
   "cell_type": "markdown",
   "metadata": {},
   "source": [
    "### Question 1\n",
    "What percentage of the documents in `spam_data` are spam?\n",
    "\n",
    "*This function should return a float, the percent value (i.e. $ratio * 100$).*"
   ]
  },
  {
   "cell_type": "code",
   "execution_count": 99,
   "metadata": {
    "collapsed": true
   },
   "outputs": [],
   "source": [
    "def answer_one():\n",
    "    \n",
    "    # frequency counts\n",
    "    freq = spam_data['target'].value_counts(normalize = True) * 100\n",
    "    \n",
    "    return freq[1]"
   ]
  },
  {
   "cell_type": "code",
   "execution_count": 100,
   "metadata": {},
   "outputs": [
    {
     "data": {
      "text/plain": [
       "13.406317300789663"
      ]
     },
     "execution_count": 100,
     "metadata": {},
     "output_type": "execute_result"
    }
   ],
   "source": [
    "answer_one()"
   ]
  },
  {
   "cell_type": "markdown",
   "metadata": {},
   "source": [
    "### Question 2\n",
    "\n",
    "Fit the training data `X_train` using a Count Vectorizer with default parameters.\n",
    "\n",
    "What is the longest token in the vocabulary?\n",
    "\n",
    "*This function should return a string.*"
   ]
  },
  {
   "cell_type": "code",
   "execution_count": 101,
   "metadata": {
    "collapsed": true
   },
   "outputs": [],
   "source": [
    "from sklearn.feature_extraction.text import CountVectorizer\n",
    "\n",
    "def answer_two():\n",
    "    \n",
    "    # fit the CountVectorizer to the training data\n",
    "    vect = CountVectorizer().fit(X_train)\n",
    "    longest_word = max(vect.get_feature_names(), key = len)\n",
    "#     word_length = len(longest_word)\n",
    "    \n",
    "    return longest_word"
   ]
  },
  {
   "cell_type": "code",
   "execution_count": 102,
   "metadata": {},
   "outputs": [
    {
     "data": {
      "text/plain": [
       "'com1win150ppmx3age16subscription'"
      ]
     },
     "execution_count": 102,
     "metadata": {},
     "output_type": "execute_result"
    }
   ],
   "source": [
    "answer_two()"
   ]
  },
  {
   "cell_type": "markdown",
   "metadata": {},
   "source": [
    "### Question 3\n",
    "\n",
    "Fit and transform the training data `X_train` using a Count Vectorizer with default parameters.\n",
    "\n",
    "Next, fit a fit a multinomial Naive Bayes classifier model with smoothing `alpha=0.1`. Find the area under the curve (AUC) score using the transformed test data.\n",
    "\n",
    "*This function should return the AUC score as a float.*"
   ]
  },
  {
   "cell_type": "code",
   "execution_count": 103,
   "metadata": {
    "collapsed": true
   },
   "outputs": [],
   "source": [
    "from sklearn.naive_bayes import MultinomialNB\n",
    "from sklearn.metrics import roc_auc_score\n",
    "\n",
    "def answer_three():\n",
    "    \n",
    "    # fit the CountVectorizer to the training data\n",
    "    # bag-of-words approach\n",
    "    vect = CountVectorizer().fit(X_train)\n",
    "\n",
    "    # transform the documents in the training data to a document-term matrix\n",
    "    X_train_vectorized = vect.transform(X_train)\n",
    "\n",
    "    # fit a multinomial Bayes classifier\n",
    "    clfMB = MultinomialNB(alpha = 0.1)\n",
    "    clfMB.fit(X_train_vectorized, y_train)\n",
    "\n",
    "    # predict the transformed test data\n",
    "    pred_MB = clfMB.predict(vect.transform(X_test))\n",
    "    auc_MB = roc_auc_score(y_test, pred_MB)\n",
    "    \n",
    "    return auc_MB"
   ]
  },
  {
   "cell_type": "code",
   "execution_count": 104,
   "metadata": {},
   "outputs": [
    {
     "data": {
      "text/plain": [
       "0.97208121827411165"
      ]
     },
     "execution_count": 104,
     "metadata": {},
     "output_type": "execute_result"
    }
   ],
   "source": [
    "answer_three()"
   ]
  },
  {
   "cell_type": "markdown",
   "metadata": {},
   "source": [
    "### Question 4\n",
    "\n",
    "Fit and transform the training data `X_train` using a Tfidf Vectorizer with default parameters.\n",
    "\n",
    "What 20 features have the smallest tf-idf and what 20 have the largest tf-idf?\n",
    "\n",
    "Put these features in a two series where each series is sorted by tf-idf value and then alphabetically by feature name. The index of the series should be the feature name, and the data should be the tf-idf.\n",
    "\n",
    "The series of 20 features with smallest tf-idfs should be sorted smallest tfidf first, the list of 20 features with largest tf-idfs should be sorted largest first. \n",
    "\n",
    "*This function should return a tuple of two series\n",
    "`(smallest tf-idfs series, largest tf-idfs series)`.*"
   ]
  },
  {
   "cell_type": "code",
   "execution_count": 105,
   "metadata": {
    "collapsed": true
   },
   "outputs": [],
   "source": [
    "from sklearn.feature_extraction.text import TfidfVectorizer\n",
    "\n",
    "def answer_four():\n",
    "    \n",
    "    # term frequency-inverse document frequency\n",
    "    # allows us to weight terms based on how important they are to a document\n",
    "    # fit the TfidfVectorizer to the training data\n",
    "    vect = TfidfVectorizer().fit(X_train)\n",
    "    X_train_vectorized = vect.transform(X_train)\n",
    "#     https://github.com/kavgan/nlp-in-practice/blob/master/tf-idf/Keyword%20Extraction%20with%20TF-IDF%20and%20SKlearn.ipynb\n",
    "\n",
    "    feature_names = np.array(vect.get_feature_names())\n",
    "    sorted_tfidf_index = X_train_vectorized.max(0).toarray()[0].argsort()\n",
    "    td_idfs = X_train_vectorized.max(0).toarray()[0]\n",
    "\n",
    "#     print('Smallest tfidf:\\n{}\\n'.format(feature_names[sorted_tfidf_index[:20]]))\n",
    "#     print('Largest tfidf: \\n{}'.format(feature_names[sorted_tfidf_index[:-21:-1]]))\n",
    "\n",
    "    # feature names and td-idf values in df\n",
    "    df = pd.DataFrame(feature_names, td_idfs).reset_index()\n",
    "    df.columns = ['td_idf', 'feature_name']\n",
    "    smallest_df = df.sort_values(by=(['td_idf', 'feature_name']), ascending=[True,True])[:20].set_index('feature_name')\n",
    "    largest_df = df.sort_values(by=(['td_idf', 'feature_name']), ascending=[False,True])[:20].set_index('feature_name')\n",
    "\n",
    "    # convert df to series\n",
    "    smallest_s = pd.Series(smallest_df['td_idf'].values, index=smallest_df.index.values)\n",
    "    largest_s = pd.Series(largest_df['td_idf'].values, index=largest_df.index.values)\n",
    "    \n",
    "    # convert series to tuples\n",
    "#     tuple1 = tuple(zip(smallest_s.index, smallest_s))\n",
    "#     tuple2 = tuple(zip(largest_s.index, largest_s))\n",
    "    \n",
    "    return (smallest_s, largest_s)"
   ]
  },
  {
   "cell_type": "code",
   "execution_count": 106,
   "metadata": {
    "scrolled": true
   },
   "outputs": [
    {
     "data": {
      "text/plain": [
       "(aaniye          0.074475\n",
       " athletic        0.074475\n",
       " chef            0.074475\n",
       " companion       0.074475\n",
       " courageous      0.074475\n",
       " dependable      0.074475\n",
       " determined      0.074475\n",
       " exterminator    0.074475\n",
       " healer          0.074475\n",
       " listener        0.074475\n",
       " organizer       0.074475\n",
       " pest            0.074475\n",
       " psychiatrist    0.074475\n",
       " psychologist    0.074475\n",
       " pudunga         0.074475\n",
       " stylist         0.074475\n",
       " sympathetic     0.074475\n",
       " venaam          0.074475\n",
       " afternoons      0.091250\n",
       " approaching     0.091250\n",
       " dtype: float64, 146tf150p    1.000000\n",
       " 645          1.000000\n",
       " anything     1.000000\n",
       " anytime      1.000000\n",
       " beerage      1.000000\n",
       " done         1.000000\n",
       " er           1.000000\n",
       " havent       1.000000\n",
       " home         1.000000\n",
       " lei          1.000000\n",
       " nite         1.000000\n",
       " ok           1.000000\n",
       " okie         1.000000\n",
       " thank        1.000000\n",
       " thanx        1.000000\n",
       " too          1.000000\n",
       " where        1.000000\n",
       " yup          1.000000\n",
       " tick         0.980166\n",
       " blank        0.932702\n",
       " dtype: float64)"
      ]
     },
     "execution_count": 106,
     "metadata": {},
     "output_type": "execute_result"
    }
   ],
   "source": [
    "answer_four()"
   ]
  },
  {
   "cell_type": "markdown",
   "metadata": {},
   "source": [
    "### Question 5\n",
    "\n",
    "Fit and transform the training data `X_train` using a Tfidf Vectorizer ignoring terms that have a document frequency strictly lower than **3**.\n",
    "\n",
    "Then fit a multinomial Naive Bayes classifier model with smoothing `alpha=0.1` and compute the area under the curve (AUC) score using the transformed test data.\n",
    "\n",
    "*This function should return the AUC score as a float.*"
   ]
  },
  {
   "cell_type": "code",
   "execution_count": 107,
   "metadata": {
    "collapsed": true
   },
   "outputs": [],
   "source": [
    "def answer_five():\n",
    "    \n",
    "    # term frequency-inverse document frequency\n",
    "    # allows us to weight terms based on how important they are to a document\n",
    "    # fit the TfidfVectorizer to the training data specifiying a minimum document frequency of 3\n",
    "    vect = TfidfVectorizer(min_df=3).fit(X_train)\n",
    "    \n",
    "    # transform the documents in the training data to a document-term matrix\n",
    "    X_train_vectorized = vect.transform(X_train)\n",
    "    \n",
    "     # fit a multinomial Bayes classifier\n",
    "    clfMB_tfidf = MultinomialNB(alpha = 0.1)\n",
    "    clfMB_tfidf.fit(X_train_vectorized, y_train)\n",
    "\n",
    "    # predict the transformed test data\n",
    "    pred_MB_tdidf = clfMB_tfidf.predict(vect.transform(X_test))\n",
    "    auc_MB_tdidf = roc_auc_score(y_test, pred_MB_tdidf)  \n",
    "\n",
    "    return auc_MB_tdidf"
   ]
  },
  {
   "cell_type": "code",
   "execution_count": 108,
   "metadata": {},
   "outputs": [
    {
     "data": {
      "text/plain": [
       "0.94162436548223349"
      ]
     },
     "execution_count": 108,
     "metadata": {},
     "output_type": "execute_result"
    }
   ],
   "source": [
    "answer_five()"
   ]
  },
  {
   "cell_type": "markdown",
   "metadata": {},
   "source": [
    "### Question 6\n",
    "\n",
    "What is the average length of documents (number of characters) for not spam and spam documents?\n",
    "\n",
    "*This function should return a tuple (average length not spam, average length spam).*"
   ]
  },
  {
   "cell_type": "code",
   "execution_count": 109,
   "metadata": {
    "collapsed": true
   },
   "outputs": [],
   "source": [
    "def answer_six():\n",
    "    # define length of text\n",
    "    spam_data_six = spam_data.copy()\n",
    "    spam_data_six['text_length'] = spam_data_six['text'].str.len()\n",
    "    \n",
    "    # find average length by target\n",
    "    avg_len_not_spam = spam_data_six.groupby('target')['text_length'].mean().values[0]\n",
    "    avg_len_spam = spam_data_six.groupby('target')['text_length'].mean().values[1]   \n",
    "    \n",
    "    return (avg_len_not_spam, avg_len_spam)"
   ]
  },
  {
   "cell_type": "code",
   "execution_count": 110,
   "metadata": {},
   "outputs": [
    {
     "data": {
      "text/plain": [
       "(71.023626943005183, 138.8661311914324)"
      ]
     },
     "execution_count": 110,
     "metadata": {},
     "output_type": "execute_result"
    }
   ],
   "source": [
    "answer_six()"
   ]
  },
  {
   "cell_type": "markdown",
   "metadata": {},
   "source": [
    "<br>\n",
    "<br>\n",
    "The following function has been provided to help you combine new features into the training data:"
   ]
  },
  {
   "cell_type": "code",
   "execution_count": 111,
   "metadata": {
    "collapsed": true
   },
   "outputs": [],
   "source": [
    "def add_feature(X, feature_to_add):\n",
    "    \"\"\"\n",
    "    Returns sparse feature matrix with added feature.\n",
    "    feature_to_add can also be a list of features.\n",
    "    \"\"\"\n",
    "    from scipy.sparse import csr_matrix, hstack\n",
    "    return hstack([X, csr_matrix(feature_to_add).T], 'csr')"
   ]
  },
  {
   "cell_type": "markdown",
   "metadata": {},
   "source": [
    "### Question 7\n",
    "\n",
    "Fit and transform the training data X_train using a Tfidf Vectorizer ignoring terms that have a document frequency strictly lower than **5**.\n",
    "\n",
    "Using this document-term matrix and an additional feature, **the length of document (number of characters)**, fit a Support Vector Classification model with regularization `C=10000`. Then compute the area under the curve (AUC) score using the transformed test data.\n",
    "\n",
    "*This function should return the AUC score as a float.*"
   ]
  },
  {
   "cell_type": "code",
   "execution_count": 115,
   "metadata": {
    "collapsed": true
   },
   "outputs": [],
   "source": [
    "from sklearn.svm import SVC\n",
    "\n",
    "def answer_seven():\n",
    "    # define length of text\n",
    "    spam_data_seven = spam_data.copy()\n",
    "    spam_data_seven['text_length'] = spam_data_seven['text'].str.len()\n",
    "    \n",
    "    # define X and y\n",
    "    X_seven = spam_data_seven[['text','text_length']]\n",
    "    y_seven = spam_data_seven[['target']]\n",
    "    \n",
    "    # 75% vs. 25% split\n",
    "    X_train, X_test, y_train, y_test = train_test_split(X_seven, y_seven, random_state=0)\n",
    "    \n",
    "    # term frequency-inverse document frequency\n",
    "    # allows us to weight terms based on how important they are to a document\n",
    "    # fit the TfidfVectorizer to the training data specifiying a minimum document frequency of 5\n",
    "    vect = TfidfVectorizer(min_df=5).fit(X_train['text'])\n",
    "    \n",
    "    # transform the documents in the training data to a document-term matrix\n",
    "    X_train_vectorized = vect.transform(X_train['text'])\n",
    "    X_train_vectorized = add_feature(X_train_vectorized, X_train['text_length'])\n",
    "    \n",
    "    # fit a SVM classifier\n",
    "    clfSVM_tdidf = SVC(C=10000)\n",
    "    clfSVM_tdidf.fit(X_train_vectorized, y_train.values.ravel())\n",
    "    \n",
    "    # predict the transformed test data\n",
    "    X_test_vectorized = vect.transform(X_test['text'])\n",
    "    X_test_vectorized = add_feature(X_test_vectorized, X_test['text_length'])\n",
    "    pred_SVM_tdidf = clfSVM_tdidf.predict(X_test_vectorized)\n",
    "    auc_SVM_tdidf = roc_auc_score(y_test, pred_SVM_tdidf) \n",
    "    \n",
    "    return auc_SVM_tdidf"
   ]
  },
  {
   "cell_type": "code",
   "execution_count": 116,
   "metadata": {},
   "outputs": [
    {
     "data": {
      "text/plain": [
       "0.95813668234215565"
      ]
     },
     "execution_count": 116,
     "metadata": {},
     "output_type": "execute_result"
    }
   ],
   "source": [
    "answer_seven()"
   ]
  },
  {
   "cell_type": "markdown",
   "metadata": {},
   "source": [
    "### Question 8\n",
    "\n",
    "What is the average number of digits per document for not spam and spam documents?\n",
    "\n",
    "*This function should return a tuple (average # digits not spam, average # digits spam).*"
   ]
  },
  {
   "cell_type": "code",
   "execution_count": 117,
   "metadata": {
    "collapsed": true
   },
   "outputs": [],
   "source": [
    "def answer_eight():\n",
    "    # define number of digits\n",
    "    spam_data_eight = spam_data.copy()\n",
    "    spam_data_eight['no_digits'] = spam_data_eight['text'].str.count(r'\\d')\n",
    "\n",
    "    # find average number of digits by target\n",
    "    avg_digits_not_spam = spam_data_eight.groupby('target')['no_digits'].mean().values[0]\n",
    "    avg_digits_spam = spam_data_eight.groupby('target')['no_digits'].mean().values[1]   \n",
    "    \n",
    "    return (avg_digits_not_spam, avg_digits_spam)"
   ]
  },
  {
   "cell_type": "code",
   "execution_count": 118,
   "metadata": {},
   "outputs": [
    {
     "data": {
      "text/plain": [
       "(0.29927461139896372, 15.759036144578314)"
      ]
     },
     "execution_count": 118,
     "metadata": {},
     "output_type": "execute_result"
    }
   ],
   "source": [
    "answer_eight()"
   ]
  },
  {
   "cell_type": "markdown",
   "metadata": {},
   "source": [
    "### Question 9\n",
    "\n",
    "Fit and transform the training data `X_train` using a Tfidf Vectorizer ignoring terms that have a document frequency strictly lower than **5** and using **word n-grams from n=1 to n=3** (unigrams, bigrams, and trigrams).\n",
    "\n",
    "Using this document-term matrix and the following additional features:\n",
    "* the length of document (number of characters)\n",
    "* **number of digits per document**\n",
    "\n",
    "fit a Logistic Regression model with regularization `C=100`. Then compute the area under the curve (AUC) score using the transformed test data.\n",
    "\n",
    "*This function should return the AUC score as a float.*"
   ]
  },
  {
   "cell_type": "code",
   "execution_count": 119,
   "metadata": {
    "collapsed": true
   },
   "outputs": [],
   "source": [
    "from sklearn.linear_model import LogisticRegression\n",
    "\n",
    "def answer_nine():\n",
    "    # define length of text and number of digits\n",
    "    spam_data_nine = spam_data.copy()\n",
    "    spam_data_nine['text_length'] = spam_data_nine['text'].str.len()\n",
    "    spam_data_nine['no_digits'] = spam_data_nine['text'].str.count(r'\\d')\n",
    "\n",
    "    # define X and y\n",
    "    X_nine = spam_data_nine[['text','text_length', 'no_digits']]\n",
    "    y_nine = spam_data_nine[['target']]\n",
    "\n",
    "    # 75% vs. 25% split\n",
    "    X_train, X_test, y_train, y_test = train_test_split(X_nine, y_nine, random_state=0)\n",
    "\n",
    "    # term frequency-inverse document frequency\n",
    "    # allows us to weight terms based on how important they are to a document\n",
    "    # fit the TfidfVectorizer to the training data specifiying a minimum document frequency of 5 with n-grams\n",
    "    vect = TfidfVectorizer(min_df=5, ngram_range=(1,3)).fit(X_train['text'])\n",
    "\n",
    "    # transform the documents in the training data to a document-term matrix\n",
    "    X_train_vectorized = vect.transform(X_train['text'])\n",
    "    X_train_vectorized = add_feature(X_train_vectorized, X_train['text_length'])\n",
    "    X_train_vectorized = add_feature(X_train_vectorized, X_train['no_digits'])\n",
    "\n",
    "    # fit a LogReg classifier\n",
    "    clfLR_tdidf = LogisticRegression(C=100)\n",
    "    clfLR_tdidf.fit(X_train_vectorized, y_train.values.ravel())\n",
    "\n",
    "    # predict the transformed test data\n",
    "    X_test_vectorized = vect.transform(X_test['text'])\n",
    "    X_test_vectorized = add_feature(X_test_vectorized, X_test['text_length'])\n",
    "    X_test_vectorized = add_feature(X_test_vectorized, X_test['no_digits'])\n",
    "\n",
    "    pred_LR_tdidf = clfLR_tdidf.predict(X_test_vectorized)\n",
    "    auc_LR_tdidf = roc_auc_score(y_test, pred_LR_tdidf)   \n",
    "    \n",
    "    return auc_LR_tdidf"
   ]
  },
  {
   "cell_type": "code",
   "execution_count": 120,
   "metadata": {},
   "outputs": [
    {
     "data": {
      "text/plain": [
       "0.96533283533945646"
      ]
     },
     "execution_count": 120,
     "metadata": {},
     "output_type": "execute_result"
    }
   ],
   "source": [
    "answer_nine()"
   ]
  },
  {
   "cell_type": "markdown",
   "metadata": {},
   "source": [
    "### Question 10\n",
    "\n",
    "What is the average number of non-word characters (anything other than a letter, digit or underscore) per document for not spam and spam documents?\n",
    "\n",
    "*Hint: Use `\\w` and `\\W` character classes*\n",
    "\n",
    "*This function should return a tuple (average # non-word characters not spam, average # non-word characters spam).*"
   ]
  },
  {
   "cell_type": "code",
   "execution_count": 121,
   "metadata": {
    "collapsed": true
   },
   "outputs": [],
   "source": [
    "def answer_ten():\n",
    "    # define number of non-word characters\n",
    "    spam_data_ten = spam_data.copy()\n",
    "\n",
    "    # \\w stands for \"word character\", usually [A-Za-z0-9_]\n",
    "    # \\W is short for [^\\w], the negated version of \\w.\n",
    "    spam_data_ten['no_non_word_chars'] = spam_data_ten['text'].str.count(r'\\W')\n",
    "\n",
    "    # find average number of non-word characters by target\n",
    "    avg_no_non_word_chars_not_spam = spam_data_ten.groupby('target')['no_non_word_chars'].mean().values[0]\n",
    "    avg_no_non_word_chars_spam = spam_data_ten.groupby('target')['no_non_word_chars'].mean().values[1] \n",
    "    \n",
    "    return (avg_no_non_word_chars_not_spam, avg_no_non_word_chars_spam)"
   ]
  },
  {
   "cell_type": "code",
   "execution_count": 122,
   "metadata": {},
   "outputs": [
    {
     "data": {
      "text/plain": [
       "(17.291813471502589, 29.041499330655956)"
      ]
     },
     "execution_count": 122,
     "metadata": {},
     "output_type": "execute_result"
    }
   ],
   "source": [
    "answer_ten()"
   ]
  },
  {
   "cell_type": "markdown",
   "metadata": {},
   "source": [
    "### Question 11\n",
    "\n",
    "Fit and transform the training data X_train using a Count Vectorizer ignoring terms that have a document frequency strictly lower than **5** and using **character n-grams from n=2 to n=5.**\n",
    "\n",
    "To tell Count Vectorizer to use character n-grams pass in `analyzer='char_wb'` which creates character n-grams only from text inside word boundaries. This should make the model more robust to spelling mistakes.\n",
    "\n",
    "Using this document-term matrix and the following additional features:\n",
    "* the length of document (number of characters)\n",
    "* number of digits per document\n",
    "* **number of non-word characters (anything other than a letter, digit or underscore.)**\n",
    "\n",
    "fit a Logistic Regression model with regularization C=100. Then compute the area under the curve (AUC) score using the transformed test data.\n",
    "\n",
    "Also **find the 10 smallest and 10 largest coefficients from the model** and return them along with the AUC score in a tuple.\n",
    "\n",
    "The list of 10 smallest coefficients should be sorted smallest first, the list of 10 largest coefficients should be sorted largest first.\n",
    "\n",
    "The three features that were added to the document term matrix should have the following names should they appear in the list of coefficients:\n",
    "['length_of_doc', 'digit_count', 'non_word_char_count']\n",
    "\n",
    "*This function should return a tuple `(AUC score as a float, smallest coefs list, largest coefs list)`.*"
   ]
  },
  {
   "cell_type": "code",
   "execution_count": 123,
   "metadata": {
    "collapsed": true
   },
   "outputs": [],
   "source": [
    "def answer_eleven():\n",
    "    # define length of tex, number of digits and number of non-word characters\n",
    "    spam_data_eleven = spam_data.copy()\n",
    "    spam_data_eleven['length_of_doc'] = spam_data_eleven['text'].str.len()\n",
    "    spam_data_eleven['digit_count'] = spam_data_eleven['text'].str.count(r'\\d')\n",
    "    spam_data_eleven['non_word_char_count'] = spam_data_eleven['text'].str.count(r'\\W')\n",
    "\n",
    "    # define X and y\n",
    "    X_eleven = spam_data_eleven[['text','length_of_doc', 'digit_count', 'non_word_char_count']]\n",
    "    y_eleven = spam_data_eleven[['target']]\n",
    "\n",
    "    # 75% vs. 25% split\n",
    "    X_train, X_test, y_train, y_test = train_test_split(X_eleven, y_eleven, random_state=0)\n",
    "\n",
    "    # term frequency-inverse document frequency\n",
    "    # allows us to weight terms based on how important they are to a document\n",
    "    # fit the Count Vectorizer to the training data specifiying a minimum document frequency of 5 with n-grams\n",
    "    vect = CountVectorizer(min_df=5, ngram_range=(2,5), analyzer='char_wb').fit(X_train['text'])\n",
    "\n",
    "    # transform the documents in the training data to a document-term matrix\n",
    "    X_train_vectorized = vect.transform(X_train['text'])\n",
    "    X_train_vectorized = add_feature(X_train_vectorized, X_train['length_of_doc'])\n",
    "    X_train_vectorized = add_feature(X_train_vectorized, X_train['digit_count'])\n",
    "    X_train_vectorized = add_feature(X_train_vectorized, X_train['non_word_char_count'])\n",
    "\n",
    "    # fit a LogReg classifier\n",
    "    clfLR = LogisticRegression(C=100)\n",
    "    clfLR.fit(X_train_vectorized, y_train.values.ravel())\n",
    "\n",
    "    # predict the transformed test data\n",
    "    X_test_vectorized = vect.transform(X_test['text'])\n",
    "    X_test_vectorized = add_feature(X_test_vectorized, X_test['length_of_doc'])\n",
    "    X_test_vectorized = add_feature(X_test_vectorized, X_test['digit_count'])\n",
    "    X_test_vectorized = add_feature(X_test_vectorized, X_test['non_word_char_count'])\n",
    "\n",
    "    pred_LR = clfLR.predict(X_test_vectorized)\n",
    "    auc_LR = roc_auc_score(y_test, pred_LR) \n",
    "\n",
    "    # find 10 largest and smallest coefficients\n",
    "    feature_names = np.append(np.array(vect.get_feature_names()), ['length_of_doc', 'digit_count', 'non_word_char_count'])\n",
    "    sorted_coef_index = clfLR.coef_[0].argsort()\n",
    "    largest_coefs = feature_names[sorted_coef_index[:-11:-1]]\n",
    "    smallest_coefs = feature_names[sorted_coef_index[:10]]    \n",
    "    \n",
    "    return (auc_LR, list(smallest_coefs), list(largest_coefs))"
   ]
  },
  {
   "cell_type": "code",
   "execution_count": 124,
   "metadata": {},
   "outputs": [
    {
     "data": {
      "text/plain": [
       "(0.97885931107074342,\n",
       " ['. ', '..', '? ', ' i', ' y', ' go', ':)', ' h', 'go', ' m'],\n",
       " ['digit_count', 'ne', 'ia', 'co', 'xt', ' ch', 'mob', ' x', 'ww', 'ar'])"
      ]
     },
     "execution_count": 124,
     "metadata": {},
     "output_type": "execute_result"
    }
   ],
   "source": [
    "answer_eleven()"
   ]
  }
 ],
 "metadata": {
  "coursera": {
   "course_slug": "python-text-mining",
   "graded_item_id": "Pn19K",
   "launcher_item_id": "y1juS",
   "part_id": "ctlgo"
  },
  "kernelspec": {
   "display_name": "Python 3",
   "language": "python",
   "name": "python3"
  },
  "language_info": {
   "codemirror_mode": {
    "name": "ipython",
    "version": 3
   },
   "file_extension": ".py",
   "mimetype": "text/x-python",
   "name": "python",
   "nbconvert_exporter": "python",
   "pygments_lexer": "ipython3",
   "version": "3.6.2"
  }
 },
 "nbformat": 4,
 "nbformat_minor": 2
}
